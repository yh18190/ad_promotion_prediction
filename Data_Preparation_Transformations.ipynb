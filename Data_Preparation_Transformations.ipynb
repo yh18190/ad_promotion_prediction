{
 "cells": [
  {
   "cell_type": "markdown",
   "metadata": {},
   "source": [
    "# Import Libraries"
   ]
  },
  {
   "cell_type": "code",
   "execution_count": 1,
   "metadata": {},
   "outputs": [],
   "source": [
    "import pandas as pd\n",
    "import numpy as np\n",
    "import seaborn as sns\n",
    "from datetime import datetime\n",
    "from pandas_profiling import ProfileReport # generate visualization report of features as html\n",
    "import matplotlib.pyplot as plt\n",
    "%matplotlib inline\n",
    "import warnings\n",
    "warnings.filterwarnings(\"ignore\")"
   ]
  },
  {
   "cell_type": "markdown",
   "metadata": {},
   "source": [
    "Path to the DataSet"
   ]
  },
  {
   "cell_type": "code",
   "execution_count": 2,
   "metadata": {},
   "outputs": [],
   "source": [
    "path_to_adv_data='/Users/yaseenh/Downloads/data.csv'\n"
   ]
  },
  {
   "cell_type": "markdown",
   "metadata": {},
   "source": [
    "### The representation of  data can have a bigger influence in the performance of  model than the type of model or the exact hyperparameters you use. Hence selected appropiate types to reduce the dataset size in memory.\n"
   ]
  },
  {
   "cell_type": "code",
   "execution_count": 212,
   "metadata": {},
   "outputs": [],
   "source": [
    "types = { 'like': np.dtype(int), 'hour': np.dtype(int), 'A': np.dtype(int), 'pos': np.dtype(int),\n",
    "         'sid': np.dtype(str), 'sdomain': np.dtype(str), 'scat': np.dtype(str), 'aid': np.dtype(str),\n",
    "         'adomain': np.dtype(str), 'acat': np.dtype(str), 'did': np.dtype(str),\n",
    "         'dip': np.dtype(str), 'dmodel': np.dtype(str), 'dtype': np.dtype(int), 'dconn': np.dtype(int),\n",
    "         'B': np.dtype(int), 'C': np.dtype(int), 'D': np.dtype(int), 'E': np.dtype(int), 'F': np.dtype(int), 'G': np.dtype(int),\n",
    "         'H': np.dtype(int), 'I': np.dtype(int)}\n",
    "\n"
   ]
  },
  {
   "cell_type": "code",
   "execution_count": 213,
   "metadata": {},
   "outputs": [
    {
     "name": "stdout",
     "output_type": "stream",
     "text": [
      "CPU times: user 1min 25s, sys: 42.8 s, total: 2min 8s\n",
      "Wall time: 2min 13s\n"
     ]
    },
    {
     "data": {
      "text/html": [
       "<div>\n",
       "<style scoped>\n",
       "    .dataframe tbody tr th:only-of-type {\n",
       "        vertical-align: middle;\n",
       "    }\n",
       "\n",
       "    .dataframe tbody tr th {\n",
       "        vertical-align: top;\n",
       "    }\n",
       "\n",
       "    .dataframe thead th {\n",
       "        text-align: right;\n",
       "    }\n",
       "</style>\n",
       "<table border=\"1\" class=\"dataframe\">\n",
       "  <thead>\n",
       "    <tr style=\"text-align: right;\">\n",
       "      <th></th>\n",
       "      <th>like</th>\n",
       "      <th>hour</th>\n",
       "      <th>sid</th>\n",
       "      <th>sdomain</th>\n",
       "      <th>scat</th>\n",
       "      <th>aid</th>\n",
       "      <th>adomain</th>\n",
       "      <th>acat</th>\n",
       "      <th>did</th>\n",
       "      <th>dip</th>\n",
       "      <th>...</th>\n",
       "      <th>pos</th>\n",
       "      <th>A</th>\n",
       "      <th>B</th>\n",
       "      <th>C</th>\n",
       "      <th>D</th>\n",
       "      <th>E</th>\n",
       "      <th>F</th>\n",
       "      <th>G</th>\n",
       "      <th>H</th>\n",
       "      <th>I</th>\n",
       "    </tr>\n",
       "  </thead>\n",
       "  <tbody>\n",
       "    <tr>\n",
       "      <th>0</th>\n",
       "      <td>0</td>\n",
       "      <td>19122100</td>\n",
       "      <td>1fbe01fe</td>\n",
       "      <td>f3845767</td>\n",
       "      <td>28905ebd</td>\n",
       "      <td>ecad2386</td>\n",
       "      <td>7801e8d9</td>\n",
       "      <td>07d7df22</td>\n",
       "      <td>a99f214a</td>\n",
       "      <td>ddd2926e</td>\n",
       "      <td>...</td>\n",
       "      <td>0</td>\n",
       "      <td>1005</td>\n",
       "      <td>15706</td>\n",
       "      <td>320</td>\n",
       "      <td>50</td>\n",
       "      <td>1722</td>\n",
       "      <td>0</td>\n",
       "      <td>35</td>\n",
       "      <td>-1</td>\n",
       "      <td>79</td>\n",
       "    </tr>\n",
       "    <tr>\n",
       "      <th>1</th>\n",
       "      <td>0</td>\n",
       "      <td>19122100</td>\n",
       "      <td>1fbe01fe</td>\n",
       "      <td>f3845767</td>\n",
       "      <td>28905ebd</td>\n",
       "      <td>ecad2386</td>\n",
       "      <td>7801e8d9</td>\n",
       "      <td>07d7df22</td>\n",
       "      <td>a99f214a</td>\n",
       "      <td>96809ac8</td>\n",
       "      <td>...</td>\n",
       "      <td>0</td>\n",
       "      <td>1005</td>\n",
       "      <td>15704</td>\n",
       "      <td>320</td>\n",
       "      <td>50</td>\n",
       "      <td>1722</td>\n",
       "      <td>0</td>\n",
       "      <td>35</td>\n",
       "      <td>100084</td>\n",
       "      <td>79</td>\n",
       "    </tr>\n",
       "    <tr>\n",
       "      <th>2</th>\n",
       "      <td>0</td>\n",
       "      <td>19122100</td>\n",
       "      <td>1fbe01fe</td>\n",
       "      <td>f3845767</td>\n",
       "      <td>28905ebd</td>\n",
       "      <td>ecad2386</td>\n",
       "      <td>7801e8d9</td>\n",
       "      <td>07d7df22</td>\n",
       "      <td>a99f214a</td>\n",
       "      <td>b3cf8def</td>\n",
       "      <td>...</td>\n",
       "      <td>0</td>\n",
       "      <td>1005</td>\n",
       "      <td>15704</td>\n",
       "      <td>320</td>\n",
       "      <td>50</td>\n",
       "      <td>1722</td>\n",
       "      <td>0</td>\n",
       "      <td>35</td>\n",
       "      <td>100084</td>\n",
       "      <td>79</td>\n",
       "    </tr>\n",
       "    <tr>\n",
       "      <th>3</th>\n",
       "      <td>0</td>\n",
       "      <td>19122100</td>\n",
       "      <td>1fbe01fe</td>\n",
       "      <td>f3845767</td>\n",
       "      <td>28905ebd</td>\n",
       "      <td>ecad2386</td>\n",
       "      <td>7801e8d9</td>\n",
       "      <td>07d7df22</td>\n",
       "      <td>a99f214a</td>\n",
       "      <td>e8275b8f</td>\n",
       "      <td>...</td>\n",
       "      <td>0</td>\n",
       "      <td>1005</td>\n",
       "      <td>15706</td>\n",
       "      <td>320</td>\n",
       "      <td>50</td>\n",
       "      <td>1722</td>\n",
       "      <td>0</td>\n",
       "      <td>35</td>\n",
       "      <td>100084</td>\n",
       "      <td>79</td>\n",
       "    </tr>\n",
       "    <tr>\n",
       "      <th>4</th>\n",
       "      <td>0</td>\n",
       "      <td>19122100</td>\n",
       "      <td>fe8cc448</td>\n",
       "      <td>9166c161</td>\n",
       "      <td>0569f928</td>\n",
       "      <td>ecad2386</td>\n",
       "      <td>7801e8d9</td>\n",
       "      <td>07d7df22</td>\n",
       "      <td>a99f214a</td>\n",
       "      <td>9644d0bf</td>\n",
       "      <td>...</td>\n",
       "      <td>1</td>\n",
       "      <td>1005</td>\n",
       "      <td>18993</td>\n",
       "      <td>320</td>\n",
       "      <td>50</td>\n",
       "      <td>2161</td>\n",
       "      <td>0</td>\n",
       "      <td>35</td>\n",
       "      <td>-1</td>\n",
       "      <td>157</td>\n",
       "    </tr>\n",
       "  </tbody>\n",
       "</table>\n",
       "<p>5 rows × 23 columns</p>\n",
       "</div>"
      ],
      "text/plain": [
       "   like      hour       sid   sdomain      scat       aid   adomain      acat  \\\n",
       "0     0  19122100  1fbe01fe  f3845767  28905ebd  ecad2386  7801e8d9  07d7df22   \n",
       "1     0  19122100  1fbe01fe  f3845767  28905ebd  ecad2386  7801e8d9  07d7df22   \n",
       "2     0  19122100  1fbe01fe  f3845767  28905ebd  ecad2386  7801e8d9  07d7df22   \n",
       "3     0  19122100  1fbe01fe  f3845767  28905ebd  ecad2386  7801e8d9  07d7df22   \n",
       "4     0  19122100  fe8cc448  9166c161  0569f928  ecad2386  7801e8d9  07d7df22   \n",
       "\n",
       "        did       dip  ... pos     A      B    C   D     E  F   G       H    I  \n",
       "0  a99f214a  ddd2926e  ...   0  1005  15706  320  50  1722  0  35      -1   79  \n",
       "1  a99f214a  96809ac8  ...   0  1005  15704  320  50  1722  0  35  100084   79  \n",
       "2  a99f214a  b3cf8def  ...   0  1005  15704  320  50  1722  0  35  100084   79  \n",
       "3  a99f214a  e8275b8f  ...   0  1005  15706  320  50  1722  0  35  100084   79  \n",
       "4  a99f214a  9644d0bf  ...   1  1005  18993  320  50  2161  0  35      -1  157  \n",
       "\n",
       "[5 rows x 23 columns]"
      ]
     },
     "execution_count": 213,
     "metadata": {},
     "output_type": "execute_result"
    }
   ],
   "source": [
    "%%time\n",
    "df = pd.read_csv(path_to_adv_data,usecols=types.keys(), dtype=types)\n",
    "df.head()"
   ]
  },
  {
   "cell_type": "code",
   "execution_count": 214,
   "metadata": {},
   "outputs": [
    {
     "name": "stdout",
     "output_type": "stream",
     "text": [
      "<class 'pandas.core.frame.DataFrame'>\n",
      "RangeIndex: 40428967 entries, 0 to 40428966\n",
      "Data columns (total 23 columns):\n",
      " #   Column   Dtype \n",
      "---  ------   ----- \n",
      " 0   like     int64 \n",
      " 1   hour     int64 \n",
      " 2   sid      object\n",
      " 3   sdomain  object\n",
      " 4   scat     object\n",
      " 5   aid      object\n",
      " 6   adomain  object\n",
      " 7   acat     object\n",
      " 8   did      object\n",
      " 9   dip      object\n",
      " 10  dmodel   object\n",
      " 11  dtype    int64 \n",
      " 12  dconn    int64 \n",
      " 13  pos      int64 \n",
      " 14  A        int64 \n",
      " 15  B        int64 \n",
      " 16  C        int64 \n",
      " 17  D        int64 \n",
      " 18  E        int64 \n",
      " 19  F        int64 \n",
      " 20  G        int64 \n",
      " 21  H        int64 \n",
      " 22  I        int64 \n",
      "dtypes: int64(14), object(9)\n",
      "memory usage: 26.2 GB\n"
     ]
    }
   ],
   "source": [
    "df.info(memory_usage='deep')"
   ]
  },
  {
   "cell_type": "markdown",
   "metadata": {},
   "source": [
    "#Sampling Data for 1Million records because of size of huge data and memory issues for visualisation and modelling on laptop"
   ]
  },
  {
   "cell_type": "code",
   "execution_count": 160,
   "metadata": {},
   "outputs": [
    {
     "data": {
      "text/html": [
       "<div>\n",
       "<style scoped>\n",
       "    .dataframe tbody tr th:only-of-type {\n",
       "        vertical-align: middle;\n",
       "    }\n",
       "\n",
       "    .dataframe tbody tr th {\n",
       "        vertical-align: top;\n",
       "    }\n",
       "\n",
       "    .dataframe thead th {\n",
       "        text-align: right;\n",
       "    }\n",
       "</style>\n",
       "<table border=\"1\" class=\"dataframe\">\n",
       "  <thead>\n",
       "    <tr style=\"text-align: right;\">\n",
       "      <th></th>\n",
       "      <th>like</th>\n",
       "      <th>hour</th>\n",
       "      <th>sid</th>\n",
       "      <th>sdomain</th>\n",
       "      <th>scat</th>\n",
       "      <th>aid</th>\n",
       "      <th>adomain</th>\n",
       "      <th>acat</th>\n",
       "      <th>did</th>\n",
       "      <th>dip</th>\n",
       "      <th>...</th>\n",
       "      <th>pos</th>\n",
       "      <th>A</th>\n",
       "      <th>B</th>\n",
       "      <th>C</th>\n",
       "      <th>D</th>\n",
       "      <th>E</th>\n",
       "      <th>F</th>\n",
       "      <th>G</th>\n",
       "      <th>H</th>\n",
       "      <th>I</th>\n",
       "    </tr>\n",
       "  </thead>\n",
       "  <tbody>\n",
       "    <tr>\n",
       "      <th>12688502</th>\n",
       "      <td>0</td>\n",
       "      <td>19122318</td>\n",
       "      <td>1fbe01fe</td>\n",
       "      <td>f3845767</td>\n",
       "      <td>28905ebd</td>\n",
       "      <td>ecad2386</td>\n",
       "      <td>7801e8d9</td>\n",
       "      <td>07d7df22</td>\n",
       "      <td>a99f214a</td>\n",
       "      <td>ce6db48d</td>\n",
       "      <td>...</td>\n",
       "      <td>0</td>\n",
       "      <td>1005</td>\n",
       "      <td>15708</td>\n",
       "      <td>320</td>\n",
       "      <td>50</td>\n",
       "      <td>1722</td>\n",
       "      <td>0</td>\n",
       "      <td>35</td>\n",
       "      <td>-1</td>\n",
       "      <td>79</td>\n",
       "    </tr>\n",
       "    <tr>\n",
       "      <th>138842</th>\n",
       "      <td>0</td>\n",
       "      <td>19122101</td>\n",
       "      <td>85f751fd</td>\n",
       "      <td>c4e18dd6</td>\n",
       "      <td>50e219e0</td>\n",
       "      <td>3bfa19cb</td>\n",
       "      <td>2347f47a</td>\n",
       "      <td>0f2161f8</td>\n",
       "      <td>9b10294c</td>\n",
       "      <td>8e1f8dfb</td>\n",
       "      <td>...</td>\n",
       "      <td>0</td>\n",
       "      <td>1005</td>\n",
       "      <td>21647</td>\n",
       "      <td>320</td>\n",
       "      <td>50</td>\n",
       "      <td>2487</td>\n",
       "      <td>1</td>\n",
       "      <td>547</td>\n",
       "      <td>-1</td>\n",
       "      <td>51</td>\n",
       "    </tr>\n",
       "    <tr>\n",
       "      <th>28101303</th>\n",
       "      <td>0</td>\n",
       "      <td>19122807</td>\n",
       "      <td>85f751fd</td>\n",
       "      <td>c4e18dd6</td>\n",
       "      <td>50e219e0</td>\n",
       "      <td>7358e05e</td>\n",
       "      <td>b9528b13</td>\n",
       "      <td>cef3e649</td>\n",
       "      <td>5ec2c9e6</td>\n",
       "      <td>625345d4</td>\n",
       "      <td>...</td>\n",
       "      <td>0</td>\n",
       "      <td>1005</td>\n",
       "      <td>18574</td>\n",
       "      <td>320</td>\n",
       "      <td>50</td>\n",
       "      <td>2104</td>\n",
       "      <td>3</td>\n",
       "      <td>559</td>\n",
       "      <td>-1</td>\n",
       "      <td>171</td>\n",
       "    </tr>\n",
       "    <tr>\n",
       "      <th>5442654</th>\n",
       "      <td>0</td>\n",
       "      <td>19122207</td>\n",
       "      <td>856e6d3f</td>\n",
       "      <td>58a89a43</td>\n",
       "      <td>f028772b</td>\n",
       "      <td>ecad2386</td>\n",
       "      <td>7801e8d9</td>\n",
       "      <td>07d7df22</td>\n",
       "      <td>a99f214a</td>\n",
       "      <td>c2db5589</td>\n",
       "      <td>...</td>\n",
       "      <td>1</td>\n",
       "      <td>1005</td>\n",
       "      <td>16208</td>\n",
       "      <td>320</td>\n",
       "      <td>50</td>\n",
       "      <td>1800</td>\n",
       "      <td>3</td>\n",
       "      <td>167</td>\n",
       "      <td>100075</td>\n",
       "      <td>23</td>\n",
       "    </tr>\n",
       "    <tr>\n",
       "      <th>29431301</th>\n",
       "      <td>0</td>\n",
       "      <td>19122811</td>\n",
       "      <td>57ef2c87</td>\n",
       "      <td>bd6d812f</td>\n",
       "      <td>f028772b</td>\n",
       "      <td>ecad2386</td>\n",
       "      <td>7801e8d9</td>\n",
       "      <td>07d7df22</td>\n",
       "      <td>a99f214a</td>\n",
       "      <td>eb32979b</td>\n",
       "      <td>...</td>\n",
       "      <td>1</td>\n",
       "      <td>1005</td>\n",
       "      <td>19771</td>\n",
       "      <td>320</td>\n",
       "      <td>50</td>\n",
       "      <td>2227</td>\n",
       "      <td>0</td>\n",
       "      <td>935</td>\n",
       "      <td>-1</td>\n",
       "      <td>48</td>\n",
       "    </tr>\n",
       "  </tbody>\n",
       "</table>\n",
       "<p>5 rows × 23 columns</p>\n",
       "</div>"
      ],
      "text/plain": [
       "          like      hour       sid   sdomain      scat       aid   adomain  \\\n",
       "12688502     0  19122318  1fbe01fe  f3845767  28905ebd  ecad2386  7801e8d9   \n",
       "138842       0  19122101  85f751fd  c4e18dd6  50e219e0  3bfa19cb  2347f47a   \n",
       "28101303     0  19122807  85f751fd  c4e18dd6  50e219e0  7358e05e  b9528b13   \n",
       "5442654      0  19122207  856e6d3f  58a89a43  f028772b  ecad2386  7801e8d9   \n",
       "29431301     0  19122811  57ef2c87  bd6d812f  f028772b  ecad2386  7801e8d9   \n",
       "\n",
       "              acat       did       dip  ... pos     A      B    C   D     E  \\\n",
       "12688502  07d7df22  a99f214a  ce6db48d  ...   0  1005  15708  320  50  1722   \n",
       "138842    0f2161f8  9b10294c  8e1f8dfb  ...   0  1005  21647  320  50  2487   \n",
       "28101303  cef3e649  5ec2c9e6  625345d4  ...   0  1005  18574  320  50  2104   \n",
       "5442654   07d7df22  a99f214a  c2db5589  ...   1  1005  16208  320  50  1800   \n",
       "29431301  07d7df22  a99f214a  eb32979b  ...   1  1005  19771  320  50  2227   \n",
       "\n",
       "          F    G       H    I  \n",
       "12688502  0   35      -1   79  \n",
       "138842    1  547      -1   51  \n",
       "28101303  3  559      -1  171  \n",
       "5442654   3  167  100075   23  \n",
       "29431301  0  935      -1   48  \n",
       "\n",
       "[5 rows x 23 columns]"
      ]
     },
     "execution_count": 160,
     "metadata": {},
     "output_type": "execute_result"
    }
   ],
   "source": [
    "df_sample_data=df.sample(n=1000000)\n",
    "df_sample_data.head()"
   ]
  },
  {
   "cell_type": "code",
   "execution_count": 7,
   "metadata": {},
   "outputs": [
    {
     "name": "stdout",
     "output_type": "stream",
     "text": [
      "<class 'pandas.core.frame.DataFrame'>\n",
      "Int64Index: 1000000 entries, 26598963 to 10628397\n",
      "Data columns (total 23 columns):\n",
      " #   Column   Non-Null Count    Dtype \n",
      "---  ------   --------------    ----- \n",
      " 0   like     1000000 non-null  int64 \n",
      " 1   hour     1000000 non-null  int64 \n",
      " 2   sid      1000000 non-null  object\n",
      " 3   sdomain  1000000 non-null  object\n",
      " 4   scat     1000000 non-null  object\n",
      " 5   aid      1000000 non-null  object\n",
      " 6   adomain  1000000 non-null  object\n",
      " 7   acat     1000000 non-null  object\n",
      " 8   did      1000000 non-null  object\n",
      " 9   dip      1000000 non-null  object\n",
      " 10  dmodel   1000000 non-null  object\n",
      " 11  dtype    1000000 non-null  int64 \n",
      " 12  dconn    1000000 non-null  int64 \n",
      " 13  pos      1000000 non-null  int64 \n",
      " 14  A        1000000 non-null  int64 \n",
      " 15  B        1000000 non-null  int64 \n",
      " 16  C        1000000 non-null  int64 \n",
      " 17  D        1000000 non-null  int64 \n",
      " 18  E        1000000 non-null  int64 \n",
      " 19  F        1000000 non-null  int64 \n",
      " 20  G        1000000 non-null  int64 \n",
      " 21  H        1000000 non-null  int64 \n",
      " 22  I        1000000 non-null  int64 \n",
      "dtypes: int64(14), object(9)\n",
      "memory usage: 672.3 MB\n"
     ]
    }
   ],
   "source": [
    "df_sample_data.info(memory_usage='deep')"
   ]
  },
  {
   "cell_type": "code",
   "execution_count": 98,
   "metadata": {},
   "outputs": [
    {
     "data": {
      "text/plain": [
       "like            2\n",
       "hour          240\n",
       "sid          2665\n",
       "sdomain      2861\n",
       "scat           22\n",
       "aid          3163\n",
       "adomain       191\n",
       "acat           28\n",
       "did        150700\n",
       "dip        555690\n",
       "dmodel       5180\n",
       "dtype           5\n",
       "dconn           4\n",
       "pos             7\n",
       "A               7\n",
       "B            2245\n",
       "C               8\n",
       "D               9\n",
       "E             423\n",
       "F               4\n",
       "G              66\n",
       "H             162\n",
       "I              60\n",
       "dtype: int64"
      ]
     },
     "execution_count": 98,
     "metadata": {},
     "output_type": "execute_result"
    }
   ],
   "source": [
    "df_sample_data.nunique()"
   ]
  },
  {
   "cell_type": "markdown",
   "metadata": {},
   "source": [
    "## Most of the features are categorical and most of the categorical features have a lot of values.\n",
    "- like                    :  Target variable (To predict)\n",
    "- sid,sdomain,sitecategory:  Site related features\n",
    "- aid,adomain,acat        :  Mobile App related features\n",
    "- did,dip,dmodel,dtype,dconn: Mobile Device features\n",
    "- A-I                     : Anonymized Categorical features \n",
    "- pos                     : position of promotion within user's mobile\n"
   ]
  },
  {
   "cell_type": "code",
   "execution_count": 99,
   "metadata": {},
   "outputs": [
    {
     "data": {
      "text/plain": [
       "0    83.019438\n",
       "1    16.980562\n",
       "Name: like, dtype: float64"
      ]
     },
     "execution_count": 99,
     "metadata": {},
     "output_type": "execute_result"
    }
   ],
   "source": [
    "#Distribution of Target variable in whole dataset\n",
    "df.like.value_counts(normalize=True)*100"
   ]
  },
  {
   "cell_type": "code",
   "execution_count": 100,
   "metadata": {},
   "outputs": [
    {
     "data": {
      "text/plain": [
       "0    83.0103\n",
       "1    16.9897\n",
       "Name: like, dtype: float64"
      ]
     },
     "execution_count": 100,
     "metadata": {},
     "output_type": "execute_result"
    }
   ],
   "source": [
    "#Distribution of Target variable in random Sampled dataset\n",
    "df_sample_data.like.value_counts(normalize=True)*100"
   ]
  },
  {
   "cell_type": "markdown",
   "metadata": {},
   "source": [
    "### Whenever user clicks on the ad it shows the likedness\\interest towards that particular ad .So basically we are measuring CTR(click through rate) through this dataset.\n",
    "\n",
    "### The overall click through promotion rate for sampled data(1 M) is approximately 17% and  83% is not liked(clicked) promotion ad.The sampled data and original dataset(40M records) have similar CTR(likedness) distribution for ads.\n",
    "\n",
    "### Hence going forward we would be using smaller sampled dataset for quicker and faster modelling and analysis.\n",
    "\n"
   ]
  },
  {
   "cell_type": "code",
   "execution_count": 101,
   "metadata": {},
   "outputs": [
    {
     "data": {
      "text/plain": [
       "(1000000, 23)"
      ]
     },
     "execution_count": 101,
     "metadata": {},
     "output_type": "execute_result"
    }
   ],
   "source": [
    "df_sample_data.shape"
   ]
  },
  {
   "cell_type": "markdown",
   "metadata": {},
   "source": [
    "Features Based on Time to understand the behavior of ads traffic with respect to devices/sites/apps\n",
    "- Hour\n",
    "- Day of Week\n",
    "- Day"
   ]
  },
  {
   "cell_type": "code",
   "execution_count": 161,
   "metadata": {},
   "outputs": [
    {
     "data": {
      "text/html": [
       "<div>\n",
       "<style scoped>\n",
       "    .dataframe tbody tr th:only-of-type {\n",
       "        vertical-align: middle;\n",
       "    }\n",
       "\n",
       "    .dataframe tbody tr th {\n",
       "        vertical-align: top;\n",
       "    }\n",
       "\n",
       "    .dataframe thead th {\n",
       "        text-align: right;\n",
       "    }\n",
       "</style>\n",
       "<table border=\"1\" class=\"dataframe\">\n",
       "  <thead>\n",
       "    <tr style=\"text-align: right;\">\n",
       "      <th></th>\n",
       "      <th>like</th>\n",
       "      <th>hour</th>\n",
       "      <th>sid</th>\n",
       "      <th>sdomain</th>\n",
       "      <th>scat</th>\n",
       "      <th>aid</th>\n",
       "      <th>adomain</th>\n",
       "      <th>acat</th>\n",
       "      <th>did</th>\n",
       "      <th>dip</th>\n",
       "      <th>...</th>\n",
       "      <th>pos</th>\n",
       "      <th>A</th>\n",
       "      <th>B</th>\n",
       "      <th>C</th>\n",
       "      <th>D</th>\n",
       "      <th>E</th>\n",
       "      <th>F</th>\n",
       "      <th>G</th>\n",
       "      <th>H</th>\n",
       "      <th>I</th>\n",
       "    </tr>\n",
       "  </thead>\n",
       "  <tbody>\n",
       "    <tr>\n",
       "      <th>12688502</th>\n",
       "      <td>0</td>\n",
       "      <td>2019-12-23 18:00:00</td>\n",
       "      <td>1fbe01fe</td>\n",
       "      <td>f3845767</td>\n",
       "      <td>28905ebd</td>\n",
       "      <td>ecad2386</td>\n",
       "      <td>7801e8d9</td>\n",
       "      <td>07d7df22</td>\n",
       "      <td>a99f214a</td>\n",
       "      <td>ce6db48d</td>\n",
       "      <td>...</td>\n",
       "      <td>0</td>\n",
       "      <td>1005</td>\n",
       "      <td>15708</td>\n",
       "      <td>320</td>\n",
       "      <td>50</td>\n",
       "      <td>1722</td>\n",
       "      <td>0</td>\n",
       "      <td>35</td>\n",
       "      <td>-1</td>\n",
       "      <td>79</td>\n",
       "    </tr>\n",
       "    <tr>\n",
       "      <th>138842</th>\n",
       "      <td>0</td>\n",
       "      <td>2019-12-21 01:00:00</td>\n",
       "      <td>85f751fd</td>\n",
       "      <td>c4e18dd6</td>\n",
       "      <td>50e219e0</td>\n",
       "      <td>3bfa19cb</td>\n",
       "      <td>2347f47a</td>\n",
       "      <td>0f2161f8</td>\n",
       "      <td>9b10294c</td>\n",
       "      <td>8e1f8dfb</td>\n",
       "      <td>...</td>\n",
       "      <td>0</td>\n",
       "      <td>1005</td>\n",
       "      <td>21647</td>\n",
       "      <td>320</td>\n",
       "      <td>50</td>\n",
       "      <td>2487</td>\n",
       "      <td>1</td>\n",
       "      <td>547</td>\n",
       "      <td>-1</td>\n",
       "      <td>51</td>\n",
       "    </tr>\n",
       "    <tr>\n",
       "      <th>28101303</th>\n",
       "      <td>0</td>\n",
       "      <td>2019-12-28 07:00:00</td>\n",
       "      <td>85f751fd</td>\n",
       "      <td>c4e18dd6</td>\n",
       "      <td>50e219e0</td>\n",
       "      <td>7358e05e</td>\n",
       "      <td>b9528b13</td>\n",
       "      <td>cef3e649</td>\n",
       "      <td>5ec2c9e6</td>\n",
       "      <td>625345d4</td>\n",
       "      <td>...</td>\n",
       "      <td>0</td>\n",
       "      <td>1005</td>\n",
       "      <td>18574</td>\n",
       "      <td>320</td>\n",
       "      <td>50</td>\n",
       "      <td>2104</td>\n",
       "      <td>3</td>\n",
       "      <td>559</td>\n",
       "      <td>-1</td>\n",
       "      <td>171</td>\n",
       "    </tr>\n",
       "    <tr>\n",
       "      <th>5442654</th>\n",
       "      <td>0</td>\n",
       "      <td>2019-12-22 07:00:00</td>\n",
       "      <td>856e6d3f</td>\n",
       "      <td>58a89a43</td>\n",
       "      <td>f028772b</td>\n",
       "      <td>ecad2386</td>\n",
       "      <td>7801e8d9</td>\n",
       "      <td>07d7df22</td>\n",
       "      <td>a99f214a</td>\n",
       "      <td>c2db5589</td>\n",
       "      <td>...</td>\n",
       "      <td>1</td>\n",
       "      <td>1005</td>\n",
       "      <td>16208</td>\n",
       "      <td>320</td>\n",
       "      <td>50</td>\n",
       "      <td>1800</td>\n",
       "      <td>3</td>\n",
       "      <td>167</td>\n",
       "      <td>100075</td>\n",
       "      <td>23</td>\n",
       "    </tr>\n",
       "    <tr>\n",
       "      <th>29431301</th>\n",
       "      <td>0</td>\n",
       "      <td>2019-12-28 11:00:00</td>\n",
       "      <td>57ef2c87</td>\n",
       "      <td>bd6d812f</td>\n",
       "      <td>f028772b</td>\n",
       "      <td>ecad2386</td>\n",
       "      <td>7801e8d9</td>\n",
       "      <td>07d7df22</td>\n",
       "      <td>a99f214a</td>\n",
       "      <td>eb32979b</td>\n",
       "      <td>...</td>\n",
       "      <td>1</td>\n",
       "      <td>1005</td>\n",
       "      <td>19771</td>\n",
       "      <td>320</td>\n",
       "      <td>50</td>\n",
       "      <td>2227</td>\n",
       "      <td>0</td>\n",
       "      <td>935</td>\n",
       "      <td>-1</td>\n",
       "      <td>48</td>\n",
       "    </tr>\n",
       "  </tbody>\n",
       "</table>\n",
       "<p>5 rows × 23 columns</p>\n",
       "</div>"
      ],
      "text/plain": [
       "          like                hour       sid   sdomain      scat       aid  \\\n",
       "12688502     0 2019-12-23 18:00:00  1fbe01fe  f3845767  28905ebd  ecad2386   \n",
       "138842       0 2019-12-21 01:00:00  85f751fd  c4e18dd6  50e219e0  3bfa19cb   \n",
       "28101303     0 2019-12-28 07:00:00  85f751fd  c4e18dd6  50e219e0  7358e05e   \n",
       "5442654      0 2019-12-22 07:00:00  856e6d3f  58a89a43  f028772b  ecad2386   \n",
       "29431301     0 2019-12-28 11:00:00  57ef2c87  bd6d812f  f028772b  ecad2386   \n",
       "\n",
       "           adomain      acat       did       dip  ... pos     A      B    C  \\\n",
       "12688502  7801e8d9  07d7df22  a99f214a  ce6db48d  ...   0  1005  15708  320   \n",
       "138842    2347f47a  0f2161f8  9b10294c  8e1f8dfb  ...   0  1005  21647  320   \n",
       "28101303  b9528b13  cef3e649  5ec2c9e6  625345d4  ...   0  1005  18574  320   \n",
       "5442654   7801e8d9  07d7df22  a99f214a  c2db5589  ...   1  1005  16208  320   \n",
       "29431301  7801e8d9  07d7df22  a99f214a  eb32979b  ...   1  1005  19771  320   \n",
       "\n",
       "           D     E  F    G       H    I  \n",
       "12688502  50  1722  0   35      -1   79  \n",
       "138842    50  2487  1  547      -1   51  \n",
       "28101303  50  2104  3  559      -1  171  \n",
       "5442654   50  1800  3  167  100075   23  \n",
       "29431301  50  2227  0  935      -1   48  \n",
       "\n",
       "[5 rows x 23 columns]"
      ]
     },
     "execution_count": 161,
     "metadata": {},
     "output_type": "execute_result"
    }
   ],
   "source": [
    "\n",
    "df_sample_data['hour']=df_sample_data['hour'].apply(lambda x:datetime.strptime(str(x),'%y%m%d%H'))\n",
    "df_sample_data.head()"
   ]
  },
  {
   "cell_type": "code",
   "execution_count": 162,
   "metadata": {},
   "outputs": [
    {
     "data": {
      "text/plain": [
       "count                 1000000\n",
       "unique                    240\n",
       "top       2019-12-22 09:00:00\n",
       "freq                    11197\n",
       "first     2019-12-21 00:00:00\n",
       "last      2019-12-30 23:00:00\n",
       "Name: hour, dtype: object"
      ]
     },
     "execution_count": 162,
     "metadata": {},
     "output_type": "execute_result"
    }
   ],
   "source": [
    "df_sample_data.hour.describe()"
   ]
  },
  {
   "cell_type": "markdown",
   "metadata": {},
   "source": [
    "Note : We have data from 22nd Dec 2019 till 30th December so almost 11 days of data with 240 unique hour values "
   ]
  },
  {
   "cell_type": "code",
   "execution_count": 163,
   "metadata": {},
   "outputs": [
    {
     "data": {
      "text/html": [
       "<div>\n",
       "<style scoped>\n",
       "    .dataframe tbody tr th:only-of-type {\n",
       "        vertical-align: middle;\n",
       "    }\n",
       "\n",
       "    .dataframe tbody tr th {\n",
       "        vertical-align: top;\n",
       "    }\n",
       "\n",
       "    .dataframe thead th {\n",
       "        text-align: right;\n",
       "    }\n",
       "</style>\n",
       "<table border=\"1\" class=\"dataframe\">\n",
       "  <thead>\n",
       "    <tr style=\"text-align: right;\">\n",
       "      <th></th>\n",
       "      <th>like</th>\n",
       "      <th>hour</th>\n",
       "      <th>sid</th>\n",
       "      <th>sdomain</th>\n",
       "      <th>scat</th>\n",
       "      <th>aid</th>\n",
       "      <th>adomain</th>\n",
       "      <th>acat</th>\n",
       "      <th>did</th>\n",
       "      <th>dip</th>\n",
       "      <th>...</th>\n",
       "      <th>A</th>\n",
       "      <th>B</th>\n",
       "      <th>C</th>\n",
       "      <th>D</th>\n",
       "      <th>E</th>\n",
       "      <th>F</th>\n",
       "      <th>G</th>\n",
       "      <th>H</th>\n",
       "      <th>I</th>\n",
       "      <th>hour_day</th>\n",
       "    </tr>\n",
       "  </thead>\n",
       "  <tbody>\n",
       "    <tr>\n",
       "      <th>12688502</th>\n",
       "      <td>0</td>\n",
       "      <td>2019-12-23 18:00:00</td>\n",
       "      <td>1fbe01fe</td>\n",
       "      <td>f3845767</td>\n",
       "      <td>28905ebd</td>\n",
       "      <td>ecad2386</td>\n",
       "      <td>7801e8d9</td>\n",
       "      <td>07d7df22</td>\n",
       "      <td>a99f214a</td>\n",
       "      <td>ce6db48d</td>\n",
       "      <td>...</td>\n",
       "      <td>1005</td>\n",
       "      <td>15708</td>\n",
       "      <td>320</td>\n",
       "      <td>50</td>\n",
       "      <td>1722</td>\n",
       "      <td>0</td>\n",
       "      <td>35</td>\n",
       "      <td>-1</td>\n",
       "      <td>79</td>\n",
       "      <td>18</td>\n",
       "    </tr>\n",
       "    <tr>\n",
       "      <th>138842</th>\n",
       "      <td>0</td>\n",
       "      <td>2019-12-21 01:00:00</td>\n",
       "      <td>85f751fd</td>\n",
       "      <td>c4e18dd6</td>\n",
       "      <td>50e219e0</td>\n",
       "      <td>3bfa19cb</td>\n",
       "      <td>2347f47a</td>\n",
       "      <td>0f2161f8</td>\n",
       "      <td>9b10294c</td>\n",
       "      <td>8e1f8dfb</td>\n",
       "      <td>...</td>\n",
       "      <td>1005</td>\n",
       "      <td>21647</td>\n",
       "      <td>320</td>\n",
       "      <td>50</td>\n",
       "      <td>2487</td>\n",
       "      <td>1</td>\n",
       "      <td>547</td>\n",
       "      <td>-1</td>\n",
       "      <td>51</td>\n",
       "      <td>1</td>\n",
       "    </tr>\n",
       "    <tr>\n",
       "      <th>28101303</th>\n",
       "      <td>0</td>\n",
       "      <td>2019-12-28 07:00:00</td>\n",
       "      <td>85f751fd</td>\n",
       "      <td>c4e18dd6</td>\n",
       "      <td>50e219e0</td>\n",
       "      <td>7358e05e</td>\n",
       "      <td>b9528b13</td>\n",
       "      <td>cef3e649</td>\n",
       "      <td>5ec2c9e6</td>\n",
       "      <td>625345d4</td>\n",
       "      <td>...</td>\n",
       "      <td>1005</td>\n",
       "      <td>18574</td>\n",
       "      <td>320</td>\n",
       "      <td>50</td>\n",
       "      <td>2104</td>\n",
       "      <td>3</td>\n",
       "      <td>559</td>\n",
       "      <td>-1</td>\n",
       "      <td>171</td>\n",
       "      <td>7</td>\n",
       "    </tr>\n",
       "    <tr>\n",
       "      <th>5442654</th>\n",
       "      <td>0</td>\n",
       "      <td>2019-12-22 07:00:00</td>\n",
       "      <td>856e6d3f</td>\n",
       "      <td>58a89a43</td>\n",
       "      <td>f028772b</td>\n",
       "      <td>ecad2386</td>\n",
       "      <td>7801e8d9</td>\n",
       "      <td>07d7df22</td>\n",
       "      <td>a99f214a</td>\n",
       "      <td>c2db5589</td>\n",
       "      <td>...</td>\n",
       "      <td>1005</td>\n",
       "      <td>16208</td>\n",
       "      <td>320</td>\n",
       "      <td>50</td>\n",
       "      <td>1800</td>\n",
       "      <td>3</td>\n",
       "      <td>167</td>\n",
       "      <td>100075</td>\n",
       "      <td>23</td>\n",
       "      <td>7</td>\n",
       "    </tr>\n",
       "    <tr>\n",
       "      <th>29431301</th>\n",
       "      <td>0</td>\n",
       "      <td>2019-12-28 11:00:00</td>\n",
       "      <td>57ef2c87</td>\n",
       "      <td>bd6d812f</td>\n",
       "      <td>f028772b</td>\n",
       "      <td>ecad2386</td>\n",
       "      <td>7801e8d9</td>\n",
       "      <td>07d7df22</td>\n",
       "      <td>a99f214a</td>\n",
       "      <td>eb32979b</td>\n",
       "      <td>...</td>\n",
       "      <td>1005</td>\n",
       "      <td>19771</td>\n",
       "      <td>320</td>\n",
       "      <td>50</td>\n",
       "      <td>2227</td>\n",
       "      <td>0</td>\n",
       "      <td>935</td>\n",
       "      <td>-1</td>\n",
       "      <td>48</td>\n",
       "      <td>11</td>\n",
       "    </tr>\n",
       "  </tbody>\n",
       "</table>\n",
       "<p>5 rows × 24 columns</p>\n",
       "</div>"
      ],
      "text/plain": [
       "          like                hour       sid   sdomain      scat       aid  \\\n",
       "12688502     0 2019-12-23 18:00:00  1fbe01fe  f3845767  28905ebd  ecad2386   \n",
       "138842       0 2019-12-21 01:00:00  85f751fd  c4e18dd6  50e219e0  3bfa19cb   \n",
       "28101303     0 2019-12-28 07:00:00  85f751fd  c4e18dd6  50e219e0  7358e05e   \n",
       "5442654      0 2019-12-22 07:00:00  856e6d3f  58a89a43  f028772b  ecad2386   \n",
       "29431301     0 2019-12-28 11:00:00  57ef2c87  bd6d812f  f028772b  ecad2386   \n",
       "\n",
       "           adomain      acat       did       dip  ...     A      B    C   D  \\\n",
       "12688502  7801e8d9  07d7df22  a99f214a  ce6db48d  ...  1005  15708  320  50   \n",
       "138842    2347f47a  0f2161f8  9b10294c  8e1f8dfb  ...  1005  21647  320  50   \n",
       "28101303  b9528b13  cef3e649  5ec2c9e6  625345d4  ...  1005  18574  320  50   \n",
       "5442654   7801e8d9  07d7df22  a99f214a  c2db5589  ...  1005  16208  320  50   \n",
       "29431301  7801e8d9  07d7df22  a99f214a  eb32979b  ...  1005  19771  320  50   \n",
       "\n",
       "             E  F    G       H    I  hour_day  \n",
       "12688502  1722  0   35      -1   79        18  \n",
       "138842    2487  1  547      -1   51         1  \n",
       "28101303  2104  3  559      -1  171         7  \n",
       "5442654   1800  3  167  100075   23         7  \n",
       "29431301  2227  0  935      -1   48        11  \n",
       "\n",
       "[5 rows x 24 columns]"
      ]
     },
     "execution_count": 163,
     "metadata": {},
     "output_type": "execute_result"
    }
   ],
   "source": [
    "#specific hour\n",
    "df_sample_data['hour_day']=df_sample_data['hour'].apply(lambda x:x.hour)\n",
    "df_sample_data.head()"
   ]
  },
  {
   "cell_type": "code",
   "execution_count": 164,
   "metadata": {},
   "outputs": [
    {
     "data": {
      "text/html": [
       "<div>\n",
       "<style scoped>\n",
       "    .dataframe tbody tr th:only-of-type {\n",
       "        vertical-align: middle;\n",
       "    }\n",
       "\n",
       "    .dataframe tbody tr th {\n",
       "        vertical-align: top;\n",
       "    }\n",
       "\n",
       "    .dataframe thead th {\n",
       "        text-align: right;\n",
       "    }\n",
       "</style>\n",
       "<table border=\"1\" class=\"dataframe\">\n",
       "  <thead>\n",
       "    <tr style=\"text-align: right;\">\n",
       "      <th></th>\n",
       "      <th>like</th>\n",
       "      <th>hour</th>\n",
       "      <th>sid</th>\n",
       "      <th>sdomain</th>\n",
       "      <th>scat</th>\n",
       "      <th>aid</th>\n",
       "      <th>adomain</th>\n",
       "      <th>acat</th>\n",
       "      <th>did</th>\n",
       "      <th>dip</th>\n",
       "      <th>...</th>\n",
       "      <th>B</th>\n",
       "      <th>C</th>\n",
       "      <th>D</th>\n",
       "      <th>E</th>\n",
       "      <th>F</th>\n",
       "      <th>G</th>\n",
       "      <th>H</th>\n",
       "      <th>I</th>\n",
       "      <th>hour_day</th>\n",
       "      <th>week_day</th>\n",
       "    </tr>\n",
       "  </thead>\n",
       "  <tbody>\n",
       "    <tr>\n",
       "      <th>12688502</th>\n",
       "      <td>0</td>\n",
       "      <td>2019-12-23 18:00:00</td>\n",
       "      <td>1fbe01fe</td>\n",
       "      <td>f3845767</td>\n",
       "      <td>28905ebd</td>\n",
       "      <td>ecad2386</td>\n",
       "      <td>7801e8d9</td>\n",
       "      <td>07d7df22</td>\n",
       "      <td>a99f214a</td>\n",
       "      <td>ce6db48d</td>\n",
       "      <td>...</td>\n",
       "      <td>15708</td>\n",
       "      <td>320</td>\n",
       "      <td>50</td>\n",
       "      <td>1722</td>\n",
       "      <td>0</td>\n",
       "      <td>35</td>\n",
       "      <td>-1</td>\n",
       "      <td>79</td>\n",
       "      <td>18</td>\n",
       "      <td>0</td>\n",
       "    </tr>\n",
       "    <tr>\n",
       "      <th>138842</th>\n",
       "      <td>0</td>\n",
       "      <td>2019-12-21 01:00:00</td>\n",
       "      <td>85f751fd</td>\n",
       "      <td>c4e18dd6</td>\n",
       "      <td>50e219e0</td>\n",
       "      <td>3bfa19cb</td>\n",
       "      <td>2347f47a</td>\n",
       "      <td>0f2161f8</td>\n",
       "      <td>9b10294c</td>\n",
       "      <td>8e1f8dfb</td>\n",
       "      <td>...</td>\n",
       "      <td>21647</td>\n",
       "      <td>320</td>\n",
       "      <td>50</td>\n",
       "      <td>2487</td>\n",
       "      <td>1</td>\n",
       "      <td>547</td>\n",
       "      <td>-1</td>\n",
       "      <td>51</td>\n",
       "      <td>1</td>\n",
       "      <td>5</td>\n",
       "    </tr>\n",
       "    <tr>\n",
       "      <th>28101303</th>\n",
       "      <td>0</td>\n",
       "      <td>2019-12-28 07:00:00</td>\n",
       "      <td>85f751fd</td>\n",
       "      <td>c4e18dd6</td>\n",
       "      <td>50e219e0</td>\n",
       "      <td>7358e05e</td>\n",
       "      <td>b9528b13</td>\n",
       "      <td>cef3e649</td>\n",
       "      <td>5ec2c9e6</td>\n",
       "      <td>625345d4</td>\n",
       "      <td>...</td>\n",
       "      <td>18574</td>\n",
       "      <td>320</td>\n",
       "      <td>50</td>\n",
       "      <td>2104</td>\n",
       "      <td>3</td>\n",
       "      <td>559</td>\n",
       "      <td>-1</td>\n",
       "      <td>171</td>\n",
       "      <td>7</td>\n",
       "      <td>5</td>\n",
       "    </tr>\n",
       "    <tr>\n",
       "      <th>5442654</th>\n",
       "      <td>0</td>\n",
       "      <td>2019-12-22 07:00:00</td>\n",
       "      <td>856e6d3f</td>\n",
       "      <td>58a89a43</td>\n",
       "      <td>f028772b</td>\n",
       "      <td>ecad2386</td>\n",
       "      <td>7801e8d9</td>\n",
       "      <td>07d7df22</td>\n",
       "      <td>a99f214a</td>\n",
       "      <td>c2db5589</td>\n",
       "      <td>...</td>\n",
       "      <td>16208</td>\n",
       "      <td>320</td>\n",
       "      <td>50</td>\n",
       "      <td>1800</td>\n",
       "      <td>3</td>\n",
       "      <td>167</td>\n",
       "      <td>100075</td>\n",
       "      <td>23</td>\n",
       "      <td>7</td>\n",
       "      <td>6</td>\n",
       "    </tr>\n",
       "    <tr>\n",
       "      <th>29431301</th>\n",
       "      <td>0</td>\n",
       "      <td>2019-12-28 11:00:00</td>\n",
       "      <td>57ef2c87</td>\n",
       "      <td>bd6d812f</td>\n",
       "      <td>f028772b</td>\n",
       "      <td>ecad2386</td>\n",
       "      <td>7801e8d9</td>\n",
       "      <td>07d7df22</td>\n",
       "      <td>a99f214a</td>\n",
       "      <td>eb32979b</td>\n",
       "      <td>...</td>\n",
       "      <td>19771</td>\n",
       "      <td>320</td>\n",
       "      <td>50</td>\n",
       "      <td>2227</td>\n",
       "      <td>0</td>\n",
       "      <td>935</td>\n",
       "      <td>-1</td>\n",
       "      <td>48</td>\n",
       "      <td>11</td>\n",
       "      <td>5</td>\n",
       "    </tr>\n",
       "  </tbody>\n",
       "</table>\n",
       "<p>5 rows × 25 columns</p>\n",
       "</div>"
      ],
      "text/plain": [
       "          like                hour       sid   sdomain      scat       aid  \\\n",
       "12688502     0 2019-12-23 18:00:00  1fbe01fe  f3845767  28905ebd  ecad2386   \n",
       "138842       0 2019-12-21 01:00:00  85f751fd  c4e18dd6  50e219e0  3bfa19cb   \n",
       "28101303     0 2019-12-28 07:00:00  85f751fd  c4e18dd6  50e219e0  7358e05e   \n",
       "5442654      0 2019-12-22 07:00:00  856e6d3f  58a89a43  f028772b  ecad2386   \n",
       "29431301     0 2019-12-28 11:00:00  57ef2c87  bd6d812f  f028772b  ecad2386   \n",
       "\n",
       "           adomain      acat       did       dip  ...      B    C   D     E  \\\n",
       "12688502  7801e8d9  07d7df22  a99f214a  ce6db48d  ...  15708  320  50  1722   \n",
       "138842    2347f47a  0f2161f8  9b10294c  8e1f8dfb  ...  21647  320  50  2487   \n",
       "28101303  b9528b13  cef3e649  5ec2c9e6  625345d4  ...  18574  320  50  2104   \n",
       "5442654   7801e8d9  07d7df22  a99f214a  c2db5589  ...  16208  320  50  1800   \n",
       "29431301  7801e8d9  07d7df22  a99f214a  eb32979b  ...  19771  320  50  2227   \n",
       "\n",
       "          F    G       H    I  hour_day  week_day  \n",
       "12688502  0   35      -1   79        18         0  \n",
       "138842    1  547      -1   51         1         5  \n",
       "28101303  3  559      -1  171         7         5  \n",
       "5442654   3  167  100075   23         7         6  \n",
       "29431301  0  935      -1   48        11         5  \n",
       "\n",
       "[5 rows x 25 columns]"
      ]
     },
     "execution_count": 164,
     "metadata": {},
     "output_type": "execute_result"
    }
   ],
   "source": [
    "#week day\n",
    "df_sample_data['week_day']=df_sample_data['hour'].apply(lambda x:x.weekday())\n",
    "df_sample_data.head()"
   ]
  },
  {
   "cell_type": "code",
   "execution_count": 165,
   "metadata": {},
   "outputs": [],
   "source": [
    "#Mapping weekdays to values\n",
    "dict_weekdays={0:'Monday',1:'Tuesday',2:'Wednesday',3:'Thursday',4:'Friday',5:'Saturday',6:'Sunday'}"
   ]
  },
  {
   "cell_type": "code",
   "execution_count": 166,
   "metadata": {},
   "outputs": [
    {
     "data": {
      "text/html": [
       "<div>\n",
       "<style scoped>\n",
       "    .dataframe tbody tr th:only-of-type {\n",
       "        vertical-align: middle;\n",
       "    }\n",
       "\n",
       "    .dataframe tbody tr th {\n",
       "        vertical-align: top;\n",
       "    }\n",
       "\n",
       "    .dataframe thead th {\n",
       "        text-align: right;\n",
       "    }\n",
       "</style>\n",
       "<table border=\"1\" class=\"dataframe\">\n",
       "  <thead>\n",
       "    <tr style=\"text-align: right;\">\n",
       "      <th></th>\n",
       "      <th>like</th>\n",
       "      <th>hour</th>\n",
       "      <th>sid</th>\n",
       "      <th>sdomain</th>\n",
       "      <th>scat</th>\n",
       "      <th>aid</th>\n",
       "      <th>adomain</th>\n",
       "      <th>acat</th>\n",
       "      <th>did</th>\n",
       "      <th>dip</th>\n",
       "      <th>...</th>\n",
       "      <th>B</th>\n",
       "      <th>C</th>\n",
       "      <th>D</th>\n",
       "      <th>E</th>\n",
       "      <th>F</th>\n",
       "      <th>G</th>\n",
       "      <th>H</th>\n",
       "      <th>I</th>\n",
       "      <th>hour_day</th>\n",
       "      <th>week_day</th>\n",
       "    </tr>\n",
       "  </thead>\n",
       "  <tbody>\n",
       "    <tr>\n",
       "      <th>12688502</th>\n",
       "      <td>0</td>\n",
       "      <td>2019-12-23 18:00:00</td>\n",
       "      <td>1fbe01fe</td>\n",
       "      <td>f3845767</td>\n",
       "      <td>28905ebd</td>\n",
       "      <td>ecad2386</td>\n",
       "      <td>7801e8d9</td>\n",
       "      <td>07d7df22</td>\n",
       "      <td>a99f214a</td>\n",
       "      <td>ce6db48d</td>\n",
       "      <td>...</td>\n",
       "      <td>15708</td>\n",
       "      <td>320</td>\n",
       "      <td>50</td>\n",
       "      <td>1722</td>\n",
       "      <td>0</td>\n",
       "      <td>35</td>\n",
       "      <td>-1</td>\n",
       "      <td>79</td>\n",
       "      <td>18</td>\n",
       "      <td>Monday</td>\n",
       "    </tr>\n",
       "    <tr>\n",
       "      <th>138842</th>\n",
       "      <td>0</td>\n",
       "      <td>2019-12-21 01:00:00</td>\n",
       "      <td>85f751fd</td>\n",
       "      <td>c4e18dd6</td>\n",
       "      <td>50e219e0</td>\n",
       "      <td>3bfa19cb</td>\n",
       "      <td>2347f47a</td>\n",
       "      <td>0f2161f8</td>\n",
       "      <td>9b10294c</td>\n",
       "      <td>8e1f8dfb</td>\n",
       "      <td>...</td>\n",
       "      <td>21647</td>\n",
       "      <td>320</td>\n",
       "      <td>50</td>\n",
       "      <td>2487</td>\n",
       "      <td>1</td>\n",
       "      <td>547</td>\n",
       "      <td>-1</td>\n",
       "      <td>51</td>\n",
       "      <td>1</td>\n",
       "      <td>Saturday</td>\n",
       "    </tr>\n",
       "    <tr>\n",
       "      <th>28101303</th>\n",
       "      <td>0</td>\n",
       "      <td>2019-12-28 07:00:00</td>\n",
       "      <td>85f751fd</td>\n",
       "      <td>c4e18dd6</td>\n",
       "      <td>50e219e0</td>\n",
       "      <td>7358e05e</td>\n",
       "      <td>b9528b13</td>\n",
       "      <td>cef3e649</td>\n",
       "      <td>5ec2c9e6</td>\n",
       "      <td>625345d4</td>\n",
       "      <td>...</td>\n",
       "      <td>18574</td>\n",
       "      <td>320</td>\n",
       "      <td>50</td>\n",
       "      <td>2104</td>\n",
       "      <td>3</td>\n",
       "      <td>559</td>\n",
       "      <td>-1</td>\n",
       "      <td>171</td>\n",
       "      <td>7</td>\n",
       "      <td>Saturday</td>\n",
       "    </tr>\n",
       "    <tr>\n",
       "      <th>5442654</th>\n",
       "      <td>0</td>\n",
       "      <td>2019-12-22 07:00:00</td>\n",
       "      <td>856e6d3f</td>\n",
       "      <td>58a89a43</td>\n",
       "      <td>f028772b</td>\n",
       "      <td>ecad2386</td>\n",
       "      <td>7801e8d9</td>\n",
       "      <td>07d7df22</td>\n",
       "      <td>a99f214a</td>\n",
       "      <td>c2db5589</td>\n",
       "      <td>...</td>\n",
       "      <td>16208</td>\n",
       "      <td>320</td>\n",
       "      <td>50</td>\n",
       "      <td>1800</td>\n",
       "      <td>3</td>\n",
       "      <td>167</td>\n",
       "      <td>100075</td>\n",
       "      <td>23</td>\n",
       "      <td>7</td>\n",
       "      <td>Sunday</td>\n",
       "    </tr>\n",
       "    <tr>\n",
       "      <th>29431301</th>\n",
       "      <td>0</td>\n",
       "      <td>2019-12-28 11:00:00</td>\n",
       "      <td>57ef2c87</td>\n",
       "      <td>bd6d812f</td>\n",
       "      <td>f028772b</td>\n",
       "      <td>ecad2386</td>\n",
       "      <td>7801e8d9</td>\n",
       "      <td>07d7df22</td>\n",
       "      <td>a99f214a</td>\n",
       "      <td>eb32979b</td>\n",
       "      <td>...</td>\n",
       "      <td>19771</td>\n",
       "      <td>320</td>\n",
       "      <td>50</td>\n",
       "      <td>2227</td>\n",
       "      <td>0</td>\n",
       "      <td>935</td>\n",
       "      <td>-1</td>\n",
       "      <td>48</td>\n",
       "      <td>11</td>\n",
       "      <td>Saturday</td>\n",
       "    </tr>\n",
       "  </tbody>\n",
       "</table>\n",
       "<p>5 rows × 25 columns</p>\n",
       "</div>"
      ],
      "text/plain": [
       "          like                hour       sid   sdomain      scat       aid  \\\n",
       "12688502     0 2019-12-23 18:00:00  1fbe01fe  f3845767  28905ebd  ecad2386   \n",
       "138842       0 2019-12-21 01:00:00  85f751fd  c4e18dd6  50e219e0  3bfa19cb   \n",
       "28101303     0 2019-12-28 07:00:00  85f751fd  c4e18dd6  50e219e0  7358e05e   \n",
       "5442654      0 2019-12-22 07:00:00  856e6d3f  58a89a43  f028772b  ecad2386   \n",
       "29431301     0 2019-12-28 11:00:00  57ef2c87  bd6d812f  f028772b  ecad2386   \n",
       "\n",
       "           adomain      acat       did       dip  ...      B    C   D     E  \\\n",
       "12688502  7801e8d9  07d7df22  a99f214a  ce6db48d  ...  15708  320  50  1722   \n",
       "138842    2347f47a  0f2161f8  9b10294c  8e1f8dfb  ...  21647  320  50  2487   \n",
       "28101303  b9528b13  cef3e649  5ec2c9e6  625345d4  ...  18574  320  50  2104   \n",
       "5442654   7801e8d9  07d7df22  a99f214a  c2db5589  ...  16208  320  50  1800   \n",
       "29431301  7801e8d9  07d7df22  a99f214a  eb32979b  ...  19771  320  50  2227   \n",
       "\n",
       "          F    G       H    I  hour_day  week_day  \n",
       "12688502  0   35      -1   79        18    Monday  \n",
       "138842    1  547      -1   51         1  Saturday  \n",
       "28101303  3  559      -1  171         7  Saturday  \n",
       "5442654   3  167  100075   23         7    Sunday  \n",
       "29431301  0  935      -1   48        11  Saturday  \n",
       "\n",
       "[5 rows x 25 columns]"
      ]
     },
     "execution_count": 166,
     "metadata": {},
     "output_type": "execute_result"
    }
   ],
   "source": [
    "df_sample_data['week_day']=df_sample_data['week_day'].map(dict_weekdays)\n",
    "df_sample_data.head()"
   ]
  },
  {
   "cell_type": "code",
   "execution_count": 167,
   "metadata": {},
   "outputs": [
    {
     "data": {
      "text/html": [
       "<div>\n",
       "<style scoped>\n",
       "    .dataframe tbody tr th:only-of-type {\n",
       "        vertical-align: middle;\n",
       "    }\n",
       "\n",
       "    .dataframe tbody tr th {\n",
       "        vertical-align: top;\n",
       "    }\n",
       "\n",
       "    .dataframe thead th {\n",
       "        text-align: right;\n",
       "    }\n",
       "</style>\n",
       "<table border=\"1\" class=\"dataframe\">\n",
       "  <thead>\n",
       "    <tr style=\"text-align: right;\">\n",
       "      <th></th>\n",
       "      <th>like</th>\n",
       "      <th>hour</th>\n",
       "      <th>sid</th>\n",
       "      <th>sdomain</th>\n",
       "      <th>scat</th>\n",
       "      <th>aid</th>\n",
       "      <th>adomain</th>\n",
       "      <th>acat</th>\n",
       "      <th>did</th>\n",
       "      <th>dip</th>\n",
       "      <th>...</th>\n",
       "      <th>C</th>\n",
       "      <th>D</th>\n",
       "      <th>E</th>\n",
       "      <th>F</th>\n",
       "      <th>G</th>\n",
       "      <th>H</th>\n",
       "      <th>I</th>\n",
       "      <th>hour_day</th>\n",
       "      <th>week_day</th>\n",
       "      <th>day</th>\n",
       "    </tr>\n",
       "  </thead>\n",
       "  <tbody>\n",
       "    <tr>\n",
       "      <th>12688502</th>\n",
       "      <td>0</td>\n",
       "      <td>2019-12-23 18:00:00</td>\n",
       "      <td>1fbe01fe</td>\n",
       "      <td>f3845767</td>\n",
       "      <td>28905ebd</td>\n",
       "      <td>ecad2386</td>\n",
       "      <td>7801e8d9</td>\n",
       "      <td>07d7df22</td>\n",
       "      <td>a99f214a</td>\n",
       "      <td>ce6db48d</td>\n",
       "      <td>...</td>\n",
       "      <td>320</td>\n",
       "      <td>50</td>\n",
       "      <td>1722</td>\n",
       "      <td>0</td>\n",
       "      <td>35</td>\n",
       "      <td>-1</td>\n",
       "      <td>79</td>\n",
       "      <td>18</td>\n",
       "      <td>Monday</td>\n",
       "      <td>23</td>\n",
       "    </tr>\n",
       "    <tr>\n",
       "      <th>138842</th>\n",
       "      <td>0</td>\n",
       "      <td>2019-12-21 01:00:00</td>\n",
       "      <td>85f751fd</td>\n",
       "      <td>c4e18dd6</td>\n",
       "      <td>50e219e0</td>\n",
       "      <td>3bfa19cb</td>\n",
       "      <td>2347f47a</td>\n",
       "      <td>0f2161f8</td>\n",
       "      <td>9b10294c</td>\n",
       "      <td>8e1f8dfb</td>\n",
       "      <td>...</td>\n",
       "      <td>320</td>\n",
       "      <td>50</td>\n",
       "      <td>2487</td>\n",
       "      <td>1</td>\n",
       "      <td>547</td>\n",
       "      <td>-1</td>\n",
       "      <td>51</td>\n",
       "      <td>1</td>\n",
       "      <td>Saturday</td>\n",
       "      <td>21</td>\n",
       "    </tr>\n",
       "    <tr>\n",
       "      <th>28101303</th>\n",
       "      <td>0</td>\n",
       "      <td>2019-12-28 07:00:00</td>\n",
       "      <td>85f751fd</td>\n",
       "      <td>c4e18dd6</td>\n",
       "      <td>50e219e0</td>\n",
       "      <td>7358e05e</td>\n",
       "      <td>b9528b13</td>\n",
       "      <td>cef3e649</td>\n",
       "      <td>5ec2c9e6</td>\n",
       "      <td>625345d4</td>\n",
       "      <td>...</td>\n",
       "      <td>320</td>\n",
       "      <td>50</td>\n",
       "      <td>2104</td>\n",
       "      <td>3</td>\n",
       "      <td>559</td>\n",
       "      <td>-1</td>\n",
       "      <td>171</td>\n",
       "      <td>7</td>\n",
       "      <td>Saturday</td>\n",
       "      <td>28</td>\n",
       "    </tr>\n",
       "    <tr>\n",
       "      <th>5442654</th>\n",
       "      <td>0</td>\n",
       "      <td>2019-12-22 07:00:00</td>\n",
       "      <td>856e6d3f</td>\n",
       "      <td>58a89a43</td>\n",
       "      <td>f028772b</td>\n",
       "      <td>ecad2386</td>\n",
       "      <td>7801e8d9</td>\n",
       "      <td>07d7df22</td>\n",
       "      <td>a99f214a</td>\n",
       "      <td>c2db5589</td>\n",
       "      <td>...</td>\n",
       "      <td>320</td>\n",
       "      <td>50</td>\n",
       "      <td>1800</td>\n",
       "      <td>3</td>\n",
       "      <td>167</td>\n",
       "      <td>100075</td>\n",
       "      <td>23</td>\n",
       "      <td>7</td>\n",
       "      <td>Sunday</td>\n",
       "      <td>22</td>\n",
       "    </tr>\n",
       "    <tr>\n",
       "      <th>29431301</th>\n",
       "      <td>0</td>\n",
       "      <td>2019-12-28 11:00:00</td>\n",
       "      <td>57ef2c87</td>\n",
       "      <td>bd6d812f</td>\n",
       "      <td>f028772b</td>\n",
       "      <td>ecad2386</td>\n",
       "      <td>7801e8d9</td>\n",
       "      <td>07d7df22</td>\n",
       "      <td>a99f214a</td>\n",
       "      <td>eb32979b</td>\n",
       "      <td>...</td>\n",
       "      <td>320</td>\n",
       "      <td>50</td>\n",
       "      <td>2227</td>\n",
       "      <td>0</td>\n",
       "      <td>935</td>\n",
       "      <td>-1</td>\n",
       "      <td>48</td>\n",
       "      <td>11</td>\n",
       "      <td>Saturday</td>\n",
       "      <td>28</td>\n",
       "    </tr>\n",
       "  </tbody>\n",
       "</table>\n",
       "<p>5 rows × 26 columns</p>\n",
       "</div>"
      ],
      "text/plain": [
       "          like                hour       sid   sdomain      scat       aid  \\\n",
       "12688502     0 2019-12-23 18:00:00  1fbe01fe  f3845767  28905ebd  ecad2386   \n",
       "138842       0 2019-12-21 01:00:00  85f751fd  c4e18dd6  50e219e0  3bfa19cb   \n",
       "28101303     0 2019-12-28 07:00:00  85f751fd  c4e18dd6  50e219e0  7358e05e   \n",
       "5442654      0 2019-12-22 07:00:00  856e6d3f  58a89a43  f028772b  ecad2386   \n",
       "29431301     0 2019-12-28 11:00:00  57ef2c87  bd6d812f  f028772b  ecad2386   \n",
       "\n",
       "           adomain      acat       did       dip  ...    C   D     E  F    G  \\\n",
       "12688502  7801e8d9  07d7df22  a99f214a  ce6db48d  ...  320  50  1722  0   35   \n",
       "138842    2347f47a  0f2161f8  9b10294c  8e1f8dfb  ...  320  50  2487  1  547   \n",
       "28101303  b9528b13  cef3e649  5ec2c9e6  625345d4  ...  320  50  2104  3  559   \n",
       "5442654   7801e8d9  07d7df22  a99f214a  c2db5589  ...  320  50  1800  3  167   \n",
       "29431301  7801e8d9  07d7df22  a99f214a  eb32979b  ...  320  50  2227  0  935   \n",
       "\n",
       "               H    I  hour_day  week_day  day  \n",
       "12688502      -1   79        18    Monday   23  \n",
       "138842        -1   51         1  Saturday   21  \n",
       "28101303      -1  171         7  Saturday   28  \n",
       "5442654   100075   23         7    Sunday   22  \n",
       "29431301      -1   48        11  Saturday   28  \n",
       "\n",
       "[5 rows x 26 columns]"
      ]
     },
     "execution_count": 167,
     "metadata": {},
     "output_type": "execute_result"
    }
   ],
   "source": [
    "#day\n",
    "df_sample_data['day']=df_sample_data['hour'].apply(lambda x:x.day)\n",
    "df_sample_data.head()"
   ]
  },
  {
   "cell_type": "code",
   "execution_count": null,
   "metadata": {},
   "outputs": [],
   "source": [
    "\n",
    "profile = ProfileReport(df_sample_data, title=\"Pandas Profiling Report\",explorative=True)"
   ]
  },
  {
   "cell_type": "code",
   "execution_count": null,
   "metadata": {},
   "outputs": [],
   "source": [
    "#profile.to_notebook_iframe()"
   ]
  },
  {
   "cell_type": "code",
   "execution_count": null,
   "metadata": {},
   "outputs": [],
   "source": [
    "profile.to_file('Visual_Analysis.html')"
   ]
  },
  {
   "cell_type": "markdown",
   "metadata": {},
   "source": [
    "# Exploratory Data Analysis"
   ]
  },
  {
   "cell_type": "markdown",
   "metadata": {},
   "source": [
    "To understand the relationships and trends of features within the dataset\n"
   ]
  },
  {
   "cell_type": "code",
   "execution_count": 168,
   "metadata": {},
   "outputs": [
    {
     "data": {
      "image/png": "[encoded data removed]",
      "text/plain": [
       "<Figure size 720x432 with 1 Axes>"
      ]
     },
     "metadata": {
      "needs_background": "light"
     },
     "output_type": "display_data"
    }
   ],
   "source": [
    "df_sample_data.groupby('hour').agg({'like':'sum'}).plot(figsize=(10,6))\n",
    "plt.ylabel('Number of likes/clicks')\n",
    "plt.title('Number of likes/clicks by hour');"
   ]
  },
  {
   "cell_type": "markdown",
   "metadata": {},
   "source": [
    "- Every day the clicks to ad patterns remain similar with couple of peak hours on days.On 22nd December mid day of and 28th December midday receieved higher traffic of ads clicks.On 24th Decemeber mid-night probably due to christmas eve etc there is off-peak traffic.\n",
    "\n"
   ]
  },
  {
   "cell_type": "code",
   "execution_count": 169,
   "metadata": {},
   "outputs": [
    {
     "data": {
      "image/png": "[encoded data removed]",
      "text/plain": [
       "<Figure size 936x432 with 1 Axes>"
      ]
     },
     "metadata": {
      "needs_background": "light"
     },
     "output_type": "display_data"
    }
   ],
   "source": [
    "#Hour_day vs Number of likes/clicks\n",
    "df_sample_data.groupby('hour_day').agg({'like':'sum'}).plot(figsize=(13,6))\n",
    "plt.ylabel('Number of likes/clicks')\n",
    "plt.title('Clicks trends by hour of day');"
   ]
  },
  {
   "cell_type": "markdown",
   "metadata": {},
   "source": [
    "- Highest number of clicks are at afternoon 13 & 14th hour \n",
    "- Least number of clicks seems to be at midnight(12am , 0 hour).\n",
    "\n"
   ]
  },
  {
   "cell_type": "code",
   "execution_count": 170,
   "metadata": {},
   "outputs": [
    {
     "data": {
      "image/png": "[encoded data removed]",
      "text/plain": [
       "<Figure size 864x432 with 1 Axes>"
      ]
     },
     "metadata": {
      "needs_background": "light"
     },
     "output_type": "display_data"
    }
   ],
   "source": [
    "#Weekday vs Number of likes/clicks\n",
    "\n",
    "df_sample_data.groupby('week_day').agg({'like':'sum'}).plot(figsize=(12,6))\n",
    "plt.ylabel('Number of likes/clicks')\n",
    "plt.title(' trends by hour of day');"
   ]
  },
  {
   "cell_type": "markdown",
   "metadata": {},
   "source": [
    "- Saturday seems have lot of ads clicks whereas Tuesday seems to be lowest"
   ]
  },
  {
   "cell_type": "code",
   "execution_count": 171,
   "metadata": {},
   "outputs": [
    {
     "data": {
      "image/png": "[encoded data removed]",
      "text/plain": [
       "<Figure size 864x432 with 1 Axes>"
      ]
     },
     "metadata": {
      "needs_background": "light"
     },
     "output_type": "display_data"
    }
   ],
   "source": [
    "df_sample_data.groupby(['hour_day', 'like']).size().unstack().plot(kind='bar', title=\"Hour of Day\", figsize=(12,6))\n",
    "plt.ylabel('count')\n",
    "plt.title('Hourly impressions vs. clicks');"
   ]
  },
  {
   "cell_type": "markdown",
   "metadata": {},
   "source": [
    "We can calculate Click-through rate (CTR). CTR is the ratio of ad clicks to impressions. It measures the rate of clicks on each ad where user shows interest/likeness is represented through click "
   ]
  },
  {
   "cell_type": "markdown",
   "metadata": {},
   "source": [
    "#### CTR  By Hour"
   ]
  },
  {
   "cell_type": "code",
   "execution_count": 172,
   "metadata": {},
   "outputs": [
    {
     "data": {
      "image/png": "[encoded data removed]",
      "text/plain": [
       "<Figure size 864x432 with 1 Axes>"
      ]
     },
     "metadata": {
      "needs_background": "light"
     },
     "output_type": "display_data"
    }
   ],
   "source": [
    "df_like = df_sample_data[df_sample_data['like'] == 1]\n",
    "df_byhour = df_sample_data[['hour_day','like']].groupby(['hour_day']).count().reset_index()\n",
    "df_byhour = df_byhour.rename(columns={'like': 'impressions'})\n",
    "df_byhour['likes'] = df_like[['hour_day','like']].groupby(['hour_day']).count().reset_index()['like']\n",
    "df_byhour['CTR'] = df_byhour['likes']/df_byhour['impressions']*100\n",
    "\n",
    "plt.figure(figsize=(12,6))\n",
    "sns.barplot(y='CTR', x='hour_day', data=df_byhour)\n",
    "plt.title('Hourly CTR');"
   ]
  },
  {
   "cell_type": "markdown",
   "metadata": {},
   "source": [
    "- Here as we see that the highest CTR happened in the hour of mid-night, 1, 7 and 15. In above analysis we have seen that around mid-night has the least number of impressions and clicks."
   ]
  },
  {
   "cell_type": "markdown",
   "metadata": {},
   "source": [
    "#### Day of week CTR"
   ]
  },
  {
   "cell_type": "code",
   "execution_count": 173,
   "metadata": {},
   "outputs": [
    {
     "data": {
      "image/png": "[encoded data removed]",
      "text/plain": [
       "<Figure size 864x432 with 1 Axes>"
      ]
     },
     "metadata": {
      "needs_background": "light"
     },
     "output_type": "display_data"
    }
   ],
   "source": [
    "df_like = df_sample_data[df_sample_data['like'] == 1]\n",
    "df_dayofweek = df_sample_data[['week_day','like']].groupby(['week_day']).count().reset_index()\n",
    "df_dayofweek = df_dayofweek.rename(columns={'like': 'impressions'})\n",
    "df_dayofweek['likes'] = df_like[['week_day','like']].groupby(['week_day']).count().reset_index()['like']\n",
    "df_dayofweek['CTR'] = df_dayofweek['likes']/df_dayofweek['impressions']*100\n",
    "\n",
    "plt.figure(figsize=(12,6))\n",
    "sns.barplot(y='CTR', x='week_day', data=df_dayofweek, order=['Monday', 'Tuesday', 'Wednesday', 'Thursday', 'Friday', 'Saturday', 'Sunday'])\n",
    "plt.title('Day of week CTR');"
   ]
  },
  {
   "cell_type": "markdown",
   "metadata": {},
   "source": [
    "- Sat and Sunday have higher impressions data based on visualization file(html)..hence lowest CTR\n",
    "- Tuesday/Friday/wednesday have lowest impressions and highest CTR"
   ]
  },
  {
   "cell_type": "markdown",
   "metadata": {},
   "source": [
    "### Understanding the Anonymized Features\n",
    "A-I"
   ]
  },
  {
   "cell_type": "code",
   "execution_count": 174,
   "metadata": {},
   "outputs": [
    {
     "data": {
      "text/plain": [
       "1005    91.8926\n",
       "1002     5.4768\n",
       "1010     2.2279\n",
       "1012     0.2757\n",
       "1007     0.0906\n",
       "1001     0.0227\n",
       "1008     0.0137\n",
       "Name: A, dtype: float64"
      ]
     },
     "execution_count": 174,
     "metadata": {},
     "output_type": "execute_result"
    }
   ],
   "source": [
    "df_sample_data.A.value_counts(normalize=True)*100\n"
   ]
  },
  {
   "cell_type": "code",
   "execution_count": 175,
   "metadata": {},
   "outputs": [
    {
     "data": {
      "image/png": "[encoded data removed]",
      "text/plain": [
       "<Figure size 864x432 with 1 Axes>"
      ]
     },
     "metadata": {
      "needs_background": "light"
     },
     "output_type": "display_data"
    }
   ],
   "source": [
    "df_sample_data.groupby(['A', 'like']).size().unstack().plot(kind='bar', figsize=(12,6), title='A histogram');\n"
   ]
  },
  {
   "cell_type": "code",
   "execution_count": 176,
   "metadata": {},
   "outputs": [
    {
     "data": {
      "image/png": "[encoded data removed]",
      "text/plain": [
       "<Figure size 864x432 with 1 Axes>"
      ]
     },
     "metadata": {
      "needs_background": "light"
     },
     "output_type": "display_data"
    }
   ],
   "source": [
    "df_A = df_sample_data[['A','like']].groupby(['A']).count().reset_index()\n",
    "df_A = df_A.rename(columns={'like': 'impressions'})\n",
    "df_A['likes'] = df_like[['A','like']].groupby(['A']).count().reset_index()['like']\n",
    "df_A['CTR'] = df_A['likes']/df_A['impressions']*100\n",
    "\n",
    "plt.figure(figsize=(12,6))\n",
    "sns.barplot(y='CTR', x='A', data=df_A)\n",
    "plt.title('CTR by A');"
   ]
  },
  {
   "cell_type": "markdown",
   "metadata": {},
   "source": [
    "- The important C1 values and CTR pairs are:\n",
    "1005: 92% of the data and 0.17 CTR\n",
    "\n",
    "1002: 5.5% of the data and 0.21 CTR\n",
    "\n",
    "\n",
    "1010 : 2.2% of the data and 0.096 CTR\n",
    "\n",
    "1002 has a much higher than average CTR, and 1010 has a much lower than average CTR."
   ]
  },
  {
   "cell_type": "markdown",
   "metadata": {},
   "source": [
    "# Position of ad"
   ]
  },
  {
   "cell_type": "code",
   "execution_count": 177,
   "metadata": {},
   "outputs": [],
   "source": [
    "def plot_features_stats(df_sample_data,feature):\n",
    "    \n",
    "    print(feature + ' Values Distribution with respect to likes/clicked')\n",
    "    print(df_sample_data[feature].value_counts(normalize=True)[0:10]*100)\n",
    "    \n",
    "    df_sample_data.groupby([feature, 'like']).size().unstack().plot(kind='bar', figsize=(12,6), title=' Feature values histogram');\n",
    "    df_like = df_sample_data[df_sample_data['like'] == 1]\n",
    "    #CTR by feature values\n",
    "    \n",
    "    df_feature = df_sample_data[[feature,'like']].groupby([feature]).count().reset_index()\n",
    "    df_feature = df_feature.rename(columns={'like': 'impressions'})\n",
    "    df_feature['likes'] = df_like[[feature,'like']].groupby([feature]).count().reset_index()['like']\n",
    "    df_feature['CTR'] = df_feature['likes']/df_feature['impressions']*100\n",
    "    sort_feature = df_feature.sort_values(by='CTR',ascending=False)[feature].tolist()\n",
    "    plt.figure(figsize=(12,6))\n",
    "    sns.barplot(y='CTR', x=feature, data=df_feature, order=sort_feature)\n",
    "    plt.title('CTR by '+ feature)\n",
    "    print('Number of values')\n",
    "    print(df_feature[feature].describe())\n",
    "    \n"
   ]
  },
  {
   "cell_type": "code",
   "execution_count": 178,
   "metadata": {},
   "outputs": [
    {
     "name": "stdout",
     "output_type": "stream",
     "text": [
      "pos Values Distribution with respect to likes/clicked\n",
      "0    71.9964\n",
      "1    27.8237\n",
      "7     0.1098\n",
      "2     0.0320\n",
      "4     0.0190\n",
      "5     0.0137\n",
      "3     0.0054\n",
      "Name: pos, dtype: float64\n",
      "Number of values\n",
      "count    7.000000\n",
      "mean     3.142857\n",
      "std      2.410295\n",
      "min      0.000000\n",
      "25%      1.500000\n",
      "50%      3.000000\n",
      "75%      4.500000\n",
      "max      7.000000\n",
      "Name: pos, dtype: float64\n"
     ]
    },
    {
     "data": {
      "image/png": "[encoded data removed]",
      "text/plain": [
       "<Figure size 864x432 with 1 Axes>"
      ]
     },
     "metadata": {
      "needs_background": "light"
     },
     "output_type": "display_data"
    },
    {
     "data": {
      "image/png": "[encoded data removed]",
      "text/plain": [
       "<Figure size 864x432 with 1 Axes>"
      ]
     },
     "metadata": {
      "needs_background": "light"
     },
     "output_type": "display_data"
    }
   ],
   "source": [
    "plot_features_stats(df_sample_data,'pos')"
   ]
  },
  {
   "cell_type": "markdown",
   "metadata": {},
   "source": [
    "- Position of ad is represented through 7 unique values with  0 and 1 have the highest number of impressions and clicks, pos 7 enjoys the highest click through rate. Increasing the number of ads placed on banner position 7 seems to be a good idea\n",
    "\n"
   ]
  },
  {
   "cell_type": "markdown",
   "metadata": {},
   "source": [
    "### Features of Site"
   ]
  },
  {
   "cell_type": "code",
   "execution_count": 179,
   "metadata": {},
   "outputs": [],
   "source": [
    "def compute_plot_features_stats(df_sample_data,feature):\n",
    "    print(feature + ' Values Distribution with respect to likes/clicked')\n",
    "    print((df_sample_data[feature].value_counts(normalize=True)*100)[0:10])\n",
    "    #Top 10 values distribution\n",
    "    \n",
    "    top10_feature = df_sample_data[(df_sample_data[feature].isin((df_sample_data[feature].value_counts()/len(df_sample_data))[0:10].index))]\n",
    "    top10_feature_like = top10_feature[top10_feature['like'] == 1]\n",
    "    top10_feature.groupby([feature, 'like']).size().unstack().plot(kind='bar', figsize=(12,6), title='Top 10 feature values histogram');\n",
    "\n",
    "    #CTR by feature values\n",
    "    df_feature = top10_feature[[feature,'like']].groupby([feature]).count().reset_index()\n",
    "    df_feature = df_feature.rename(columns={'like': 'impressions'})\n",
    "    df_feature['likes'] = top10_feature_like[[feature,'like']].groupby([feature]).count().reset_index()['like']\n",
    "    df_feature['CTR'] = df_feature['likes']/df_feature['impressions']*100\n",
    "    sort_feature = df_feature.sort_values(by='CTR',ascending=False)[feature].tolist()\n",
    "    plt.figure(figsize=(12,6))\n",
    "    sns.barplot(y='CTR', x=feature, data=df_feature, order=sort_feature)\n",
    "    plt.title('CTR by top 10 feature values');\n",
    "    print('Number of values')\n",
    "    print(df_feature[feature].describe())\n",
    "    print(\"Unique values of feature in data\",df_sample_data[feature].nunique())\n",
    "    "
   ]
  },
  {
   "cell_type": "code",
   "execution_count": 180,
   "metadata": {},
   "outputs": [
    {
     "name": "stdout",
     "output_type": "stream",
     "text": [
      "sid Values Distribution with respect to likes/clicked\n",
      "85f751fd    36.1365\n",
      "1fbe01fe    15.9889\n",
      "e151e245     6.5744\n",
      "d9750ee7     2.3985\n",
      "5b08c53b     2.2703\n",
      "5b4d2eda     1.9272\n",
      "856e6d3f     1.8607\n",
      "a7853007     1.1227\n",
      "b7e9786d     0.9162\n",
      "5bcf81a2     0.8550\n",
      "Name: sid, dtype: float64\n",
      "Number of values\n",
      "count           10\n",
      "unique          10\n",
      "top       856e6d3f\n",
      "freq             1\n",
      "Name: sid, dtype: object\n",
      "Unique values of feature in data 2631\n"
     ]
    },
    {
     "data": {
      "image/png": "[encoded data removed]",
      "text/plain": [
       "<Figure size 864x432 with 1 Axes>"
      ]
     },
     "metadata": {
      "needs_background": "light"
     },
     "output_type": "display_data"
    },
    {
     "data": {
      "image/png": "[encoded data removed]",
      "text/plain": [
       "<Figure size 864x432 with 1 Axes>"
      ]
     },
     "metadata": {
      "needs_background": "light"
     },
     "output_type": "display_data"
    }
   ],
   "source": [
    "compute_plot_features_stats(df_sample_data,'sid')"
   ]
  },
  {
   "cell_type": "markdown",
   "metadata": {},
   "source": [
    "The site_id feature seems important because the CTR for the top 10 sites, some as high as 0.47, and some as low as 0.04, and they are significantly different from overall CTR 0.16(approx)."
   ]
  },
  {
   "cell_type": "markdown",
   "metadata": {},
   "source": [
    "### Domain of Site"
   ]
  },
  {
   "cell_type": "code",
   "execution_count": 181,
   "metadata": {},
   "outputs": [
    {
     "name": "stdout",
     "output_type": "stream",
     "text": [
      "sdomain Values Distribution with respect to likes/clicked\n",
      "c4e18dd6    37.4492\n",
      "f3845767    15.9889\n",
      "7e091613     8.2601\n",
      "7687a86e     3.2004\n",
      "98572c79     2.4830\n",
      "16a36ef3     2.1295\n",
      "58a89a43     1.8607\n",
      "9d54950b     0.9462\n",
      "b12b9f85     0.9282\n",
      "17d996e6     0.8508\n",
      "Name: sdomain, dtype: float64\n",
      "Number of values\n",
      "count           10\n",
      "unique          10\n",
      "top       98572c79\n",
      "freq             1\n",
      "Name: sdomain, dtype: object\n",
      "Unique values of feature in data 2891\n"
     ]
    },
    {
     "data": {
      "image/png": "[encoded data removed]",
      "text/plain": [
       "<Figure size 864x432 with 1 Axes>"
      ]
     },
     "metadata": {
      "needs_background": "light"
     },
     "output_type": "display_data"
    },
    {
     "data": {
      "image/png": "[encoded data removed]",
      "text/plain": [
       "<Figure size 864x432 with 1 Axes>"
      ]
     },
     "metadata": {
      "needs_background": "light"
     },
     "output_type": "display_data"
    }
   ],
   "source": [
    "compute_plot_features_stats(df_sample_data,'sdomain')"
   ]
  },
  {
   "cell_type": "markdown",
   "metadata": {},
   "source": [
    "### Site Categories"
   ]
  },
  {
   "cell_type": "code",
   "execution_count": 182,
   "metadata": {},
   "outputs": [
    {
     "name": "stdout",
     "output_type": "stream",
     "text": [
      "scat Values Distribution with respect to likes/clicked\n",
      "50e219e0    40.9151\n",
      "f028772b    31.3491\n",
      "28905ebd    18.1968\n",
      "3e814130     7.5391\n",
      "f66779e6     0.6228\n",
      "75fa27f6     0.4009\n",
      "335d28a8     0.3326\n",
      "76b2941d     0.2589\n",
      "c0dd3be3     0.1053\n",
      "72722551     0.0713\n",
      "Name: scat, dtype: float64\n",
      "Number of values\n",
      "count           10\n",
      "unique          10\n",
      "top       c0dd3be3\n",
      "freq             1\n",
      "Name: scat, dtype: object\n",
      "Unique values of feature in data 22\n"
     ]
    },
    {
     "data": {
      "image/png": "[encoded data removed]",
      "text/plain": [
       "<Figure size 864x432 with 1 Axes>"
      ]
     },
     "metadata": {
      "needs_background": "light"
     },
     "output_type": "display_data"
    },
    {
     "data": {
      "image/png": "[encoded data removed]",
      "text/plain": [
       "<Figure size 864x432 with 1 Axes>"
      ]
     },
     "metadata": {
      "needs_background": "light"
     },
     "output_type": "display_data"
    }
   ],
   "source": [
    "\n",
    "compute_plot_features_stats(df_sample_data,'scat')"
   ]
  },
  {
   "cell_type": "markdown",
   "metadata": {},
   "source": [
    "### Mobile Device features"
   ]
  },
  {
   "cell_type": "code",
   "execution_count": 183,
   "metadata": {},
   "outputs": [
    {
     "name": "stdout",
     "output_type": "stream",
     "text": [
      "did Values Distribution with respect to likes/clicked\n",
      "a99f214a    82.5237\n",
      "0f7c61dc     0.0528\n",
      "c357dbff     0.0464\n",
      "936e92fb     0.0330\n",
      "afeffc18     0.0212\n",
      "d857ffbb     0.0105\n",
      "987552d1     0.0105\n",
      "28dc8687     0.0102\n",
      "b09da1c4     0.0087\n",
      "cef4c8cc     0.0069\n",
      "Name: did, dtype: float64\n",
      "Number of values\n",
      "count           10\n",
      "unique          10\n",
      "top       c357dbff\n",
      "freq             1\n",
      "Name: did, dtype: object\n",
      "Unique values of feature in data 150293\n"
     ]
    },
    {
     "data": {
      "image/png": "[encoded data removed]",
      "text/plain": [
       "<Figure size 864x432 with 1 Axes>"
      ]
     },
     "metadata": {
      "needs_background": "light"
     },
     "output_type": "display_data"
    },
    {
     "data": {
      "image/png": "[encoded data removed]",
      "text/plain": [
       "<Figure size 864x432 with 1 Axes>"
      ]
     },
     "metadata": {
      "needs_background": "light"
     },
     "output_type": "display_data"
    }
   ],
   "source": [
    "#device id\n",
    "compute_plot_features_stats(df_sample_data,'did')"
   ]
  },
  {
   "cell_type": "markdown",
   "metadata": {},
   "source": [
    "- Most of device_id CTR is through a99f214a : Approx. 83% of the data, and the second major device_id is only 0.05% of the data."
   ]
  },
  {
   "cell_type": "code",
   "execution_count": 184,
   "metadata": {},
   "outputs": [
    {
     "name": "stdout",
     "output_type": "stream",
     "text": [
      "dip Values Distribution with respect to likes/clicked\n",
      "6b9769f2    0.5100\n",
      "431b3174    0.3254\n",
      "2f323f36    0.2171\n",
      "930ec31d    0.2161\n",
      "af62faf4    0.2151\n",
      "af9205f9    0.2127\n",
      "009a7861    0.2127\n",
      "285aa37d    0.2062\n",
      "6394f6f6    0.2060\n",
      "d90a7774    0.1996\n",
      "Name: dip, dtype: float64\n",
      "Number of values\n",
      "count           10\n",
      "unique          10\n",
      "top       285aa37d\n",
      "freq             1\n",
      "Name: dip, dtype: object\n",
      "Unique values of feature in data 555329\n"
     ]
    },
    {
     "data": {
      "image/png": "[encoded data removed]",
      "text/plain": [
       "<Figure size 864x432 with 1 Axes>"
      ]
     },
     "metadata": {
      "needs_background": "light"
     },
     "output_type": "display_data"
    },
    {
     "data": {
      "image/png": "[encoded data removed]",
      "text/plain": [
       "<Figure size 864x432 with 1 Axes>"
      ]
     },
     "metadata": {
      "needs_background": "light"
     },
     "output_type": "display_data"
    }
   ],
   "source": [
    "#device ip\n",
    "compute_plot_features_stats(df_sample_data,'dip')"
   ]
  },
  {
   "cell_type": "code",
   "execution_count": 185,
   "metadata": {},
   "outputs": [
    {
     "name": "stdout",
     "output_type": "stream",
     "text": [
      "dtype Values Distribution with respect to likes/clicked\n",
      "1    92.2953\n",
      "0     5.4768\n",
      "4     1.9092\n",
      "5     0.3187\n",
      "Name: dtype, dtype: float64\n",
      "Number of values\n",
      "count    4.000000\n",
      "mean     2.500000\n",
      "std      2.380476\n",
      "min      0.000000\n",
      "25%      0.750000\n",
      "50%      2.500000\n",
      "75%      4.250000\n",
      "max      5.000000\n",
      "Name: dtype, dtype: float64\n",
      "Unique values of feature in data 4\n"
     ]
    },
    {
     "data": {
      "image/png": "[encoded data removed]",
      "text/plain": [
       "<Figure size 864x432 with 1 Axes>"
      ]
     },
     "metadata": {
      "needs_background": "light"
     },
     "output_type": "display_data"
    },
    {
     "data": {
      "image/png": "[encoded data removed]",
      "text/plain": [
       "<Figure size 864x432 with 1 Axes>"
      ]
     },
     "metadata": {
      "needs_background": "light"
     },
     "output_type": "display_data"
    }
   ],
   "source": [
    "#device types\n",
    "compute_plot_features_stats(df_sample_data,'dtype')"
   ]
  },
  {
   "cell_type": "markdown",
   "metadata": {},
   "source": [
    "### App Features"
   ]
  },
  {
   "cell_type": "code",
   "execution_count": 186,
   "metadata": {},
   "outputs": [
    {
     "name": "stdout",
     "output_type": "stream",
     "text": [
      "acat Values Distribution with respect to likes/clicked\n",
      "07d7df22    64.6876\n",
      "0f2161f8    23.6439\n",
      "cef3e649     4.3090\n",
      "8ded1f7a     3.6383\n",
      "f95efa07     2.8158\n",
      "d1327cf5     0.3005\n",
      "dc97ec06     0.1435\n",
      "09481d60     0.1335\n",
      "75d80bbe     0.1033\n",
      "fc6fa53d     0.0559\n",
      "Name: acat, dtype: float64\n",
      "Number of values\n",
      "count           10\n",
      "unique          10\n",
      "top       09481d60\n",
      "freq             1\n",
      "Name: acat, dtype: object\n",
      "Unique values of feature in data 25\n"
     ]
    },
    {
     "data": {
      "image/png": "[encoded data removed]",
      "text/plain": [
       "<Figure size 864x432 with 1 Axes>"
      ]
     },
     "metadata": {
      "needs_background": "light"
     },
     "output_type": "display_data"
    },
    {
     "data": {
      "image/png": "[encoded data removed]",
      "text/plain": [
       "<Figure size 864x432 with 1 Axes>"
      ]
     },
     "metadata": {
      "needs_background": "light"
     },
     "output_type": "display_data"
    }
   ],
   "source": [
    "#App category\n",
    "compute_plot_features_stats(df_sample_data,'acat')"
   ]
  },
  {
   "cell_type": "code",
   "execution_count": 187,
   "metadata": {},
   "outputs": [
    {
     "name": "stdout",
     "output_type": "stream",
     "text": [
      "adomain Values Distribution with respect to likes/clicked\n",
      "7801e8d9    67.3315\n",
      "2347f47a    12.9505\n",
      "ae637522     4.6869\n",
      "5c5a694b     2.7679\n",
      "82e27996     1.8846\n",
      "d9b5648e     1.7426\n",
      "b9528b13     1.6251\n",
      "0e8616ad     1.6249\n",
      "b8d325c3     1.3349\n",
      "aefc06bd     0.7525\n",
      "Name: adomain, dtype: float64\n",
      "Number of values\n",
      "count           10\n",
      "unique          10\n",
      "top       5c5a694b\n",
      "freq             1\n",
      "Name: adomain, dtype: object\n",
      "Unique values of feature in data 201\n"
     ]
    },
    {
     "data": {
      "image/png": "[encoded data removed]",
      "text/plain": [
       "<Figure size 864x432 with 1 Axes>"
      ]
     },
     "metadata": {
      "needs_background": "light"
     },
     "output_type": "display_data"
    },
    {
     "data": {
      "image/png": "[encoded data removed]",
      "text/plain": [
       "<Figure size 864x432 with 1 Axes>"
      ]
     },
     "metadata": {
      "needs_background": "light"
     },
     "output_type": "display_data"
    }
   ],
   "source": [
    "#App domain\n",
    "compute_plot_features_stats(df_sample_data,'adomain')"
   ]
  },
  {
   "cell_type": "markdown",
   "metadata": {},
   "source": [
    "### Anonymized categorical Features"
   ]
  },
  {
   "cell_type": "markdown",
   "metadata": {},
   "source": [
    "### Feature B"
   ]
  },
  {
   "cell_type": "code",
   "execution_count": 188,
   "metadata": {},
   "outputs": [
    {
     "name": "stdout",
     "output_type": "stream",
     "text": [
      "B Values Distribution with respect to likes/clicked\n",
      "4687     2.3742\n",
      "21611    2.2460\n",
      "21191    1.9060\n",
      "21189    1.9008\n",
      "19771    1.8060\n",
      "19772    1.7941\n",
      "16208    1.6164\n",
      "20108    1.4564\n",
      "8330     1.3581\n",
      "19950    1.2927\n",
      "Name: B, dtype: float64\n",
      "Number of values\n",
      "count       10.000000\n",
      "mean     17281.700000\n",
      "std       5932.122499\n",
      "min       4687.000000\n",
      "25%      17098.750000\n",
      "50%      19861.000000\n",
      "75%      20918.750000\n",
      "max      21611.000000\n",
      "Name: B, dtype: float64\n",
      "Unique values of feature in data 2230\n"
     ]
    },
    {
     "data": {
      "image/png": "[encoded data removed]",
      "text/plain": [
       "<Figure size 864x432 with 1 Axes>"
      ]
     },
     "metadata": {
      "needs_background": "light"
     },
     "output_type": "display_data"
    },
    {
     "data": {
      "image/png": "[encoded data removed]",
      "text/plain": [
       "<Figure size 864x432 with 1 Axes>"
      ]
     },
     "metadata": {
      "needs_background": "light"
     },
     "output_type": "display_data"
    }
   ],
   "source": [
    "compute_plot_features_stats(df_sample_data,'B')"
   ]
  },
  {
   "cell_type": "markdown",
   "metadata": {},
   "source": [
    "### Feature C"
   ]
  },
  {
   "cell_type": "code",
   "execution_count": 189,
   "metadata": {},
   "outputs": [
    {
     "name": "stdout",
     "output_type": "stream",
     "text": [
      "C Values Distribution with respect to likes/clicked\n",
      "320     93.2628\n",
      "300      5.7945\n",
      "216      0.7395\n",
      "728      0.1807\n",
      "120      0.0079\n",
      "1024     0.0062\n",
      "480      0.0044\n",
      "768      0.0040\n",
      "Name: C, dtype: float64\n",
      "Number of values\n",
      "count       8.000000\n",
      "mean      494.500000\n",
      "std       315.322511\n",
      "min       120.000000\n",
      "25%       279.000000\n",
      "50%       400.000000\n",
      "75%       738.000000\n",
      "max      1024.000000\n",
      "Name: C, dtype: float64\n",
      "Unique values of feature in data 8\n"
     ]
    },
    {
     "data": {
      "image/png": "[encoded data removed]",
      "text/plain": [
       "<Figure size 864x432 with 1 Axes>"
      ]
     },
     "metadata": {
      "needs_background": "light"
     },
     "output_type": "display_data"
    },
    {
     "data": {
      "image/png": "[encoded data removed]",
      "text/plain": [
       "<Figure size 864x432 with 1 Axes>"
      ]
     },
     "metadata": {
      "needs_background": "light"
     },
     "output_type": "display_data"
    }
   ],
   "source": [
    "\n",
    "compute_plot_features_stats(df_sample_data,'C')"
   ]
  },
  {
   "cell_type": "markdown",
   "metadata": {},
   "source": [
    "### Feature D"
   ]
  },
  {
   "cell_type": "code",
   "execution_count": 190,
   "metadata": {},
   "outputs": [
    {
     "name": "stdout",
     "output_type": "stream",
     "text": [
      "D Values Distribution with respect to likes/clicked\n",
      "50      94.3156\n",
      "250      4.4817\n",
      "36       0.7395\n",
      "480      0.2600\n",
      "90       0.1807\n",
      "20       0.0079\n",
      "768      0.0062\n",
      "320      0.0044\n",
      "1024     0.0040\n",
      "Name: D, dtype: float64\n",
      "Number of values\n",
      "count       9.000000\n",
      "mean      337.555556\n",
      "std       357.159317\n",
      "min        20.000000\n",
      "25%        50.000000\n",
      "50%       250.000000\n",
      "75%       480.000000\n",
      "max      1024.000000\n",
      "Name: D, dtype: float64\n",
      "Unique values of feature in data 9\n"
     ]
    },
    {
     "data": {
      "image/png": "[encoded data removed]",
      "text/plain": [
       "<Figure size 864x432 with 1 Axes>"
      ]
     },
     "metadata": {
      "needs_background": "light"
     },
     "output_type": "display_data"
    },
    {
     "data": {
      "image/png": "[encoded data removed]",
      "text/plain": [
       "<Figure size 864x432 with 1 Axes>"
      ]
     },
     "metadata": {
      "needs_background": "light"
     },
     "output_type": "display_data"
    }
   ],
   "source": [
    "\n",
    "compute_plot_features_stats(df_sample_data,'D')"
   ]
  },
  {
   "cell_type": "markdown",
   "metadata": {},
   "source": [
    "### Features E_I"
   ]
  },
  {
   "cell_type": "code",
   "execution_count": 191,
   "metadata": {},
   "outputs": [
    {
     "name": "stdout",
     "output_type": "stream",
     "text": [
      "E Values Distribution with respect to likes/clicked\n",
      "1722    11.1232\n",
      "2424     3.8069\n",
      "2227     3.6341\n",
      "1800     2.9174\n",
      "423      2.3742\n",
      "2480     2.2736\n",
      "2502     2.1109\n",
      "2528     2.0426\n",
      "2506     1.9977\n",
      "2374     1.8580\n",
      "Name: E, dtype: float64\n",
      "Number of values\n",
      "count      10.000000\n",
      "mean     2098.600000\n",
      "std       657.892122\n",
      "min       423.000000\n",
      "25%      1906.750000\n",
      "50%      2399.000000\n",
      "75%      2496.500000\n",
      "max      2528.000000\n",
      "Name: E, dtype: float64\n",
      "Unique values of feature in data 420\n",
      "F Values Distribution with respect to likes/clicked\n",
      "0    41.8666\n",
      "3    33.7399\n",
      "2    17.6451\n",
      "1     6.7484\n",
      "Name: F, dtype: float64\n",
      "Number of values\n",
      "count    4.000000\n",
      "mean     1.500000\n",
      "std      1.290994\n",
      "min      0.000000\n",
      "25%      0.750000\n",
      "50%      1.500000\n",
      "75%      2.250000\n",
      "max      3.000000\n",
      "Name: F, dtype: float64\n",
      "Unique values of feature in data 4\n",
      "G Values Distribution with respect to likes/clicked\n",
      "35      30.0996\n",
      "39      21.8402\n",
      "167      7.7588\n",
      "161      3.9430\n",
      "47       3.5966\n",
      "1327     2.7090\n",
      "297      2.5155\n",
      "163      2.2958\n",
      "175      1.9992\n",
      "679      1.8266\n",
      "Name: G, dtype: float64\n",
      "Number of values\n",
      "count      10.0000\n",
      "mean      309.0000\n",
      "std       404.3277\n",
      "min        35.0000\n",
      "25%        75.5000\n",
      "50%       165.0000\n",
      "75%       266.5000\n",
      "max      1327.0000\n",
      "Name: G, dtype: float64\n",
      "Unique values of feature in data 66\n",
      "H Values Distribution with respect to likes/clicked\n",
      "-1         46.7734\n",
      " 100084     6.0211\n",
      " 100148     4.4581\n",
      " 100111     4.2855\n",
      " 100077     3.9245\n",
      " 100075     3.8214\n",
      " 100081     3.2689\n",
      " 100083     2.6492\n",
      " 100156     2.5452\n",
      " 100193     1.7677\n",
      "Name: H, dtype: float64\n",
      "Number of values\n",
      "count        10.000000\n",
      "mean      90100.700000\n",
      "std       31658.536616\n",
      "min          -1.000000\n",
      "25%      100078.000000\n",
      "50%      100083.500000\n",
      "75%      100138.750000\n",
      "max      100193.000000\n",
      "Name: H, dtype: float64\n",
      "Unique values of feature in data 163\n",
      "I Values Distribution with respect to likes/clicked\n",
      "23     21.9919\n",
      "221    12.4616\n",
      "79     11.3842\n",
      "48      5.3421\n",
      "71      5.2255\n",
      "61      5.0731\n",
      "157     4.6113\n",
      "32      4.4151\n",
      "33      3.7228\n",
      "52      2.9595\n",
      "Name: I, dtype: float64\n",
      "Number of values\n",
      "count     10.000000\n",
      "mean      77.700000\n",
      "std       63.043283\n",
      "min       23.000000\n",
      "25%       36.750000\n",
      "50%       56.500000\n",
      "75%       77.000000\n",
      "max      221.000000\n",
      "Name: I, dtype: float64\n",
      "Unique values of feature in data 60\n"
     ]
    },
    {
     "data": {
      "image/png": "[encoded data removed]",
      "text/plain": [
       "<Figure size 864x432 with 1 Axes>"
      ]
     },
     "metadata": {
      "needs_background": "light"
     },
     "output_type": "display_data"
    },
    {
     "data": {
      "image/png": "[encoded data removed]",
      "text/plain": [
       "<Figure size 864x432 with 1 Axes>"
      ]
     },
     "metadata": {
      "needs_background": "light"
     },
     "output_type": "display_data"
    },
    {
     "data": {
      "image/png": "[encoded data removed]",
      "text/plain": [
       "<Figure size 864x432 with 1 Axes>"
      ]
     },
     "metadata": {
      "needs_background": "light"
     },
     "output_type": "display_data"
    },
    {
     "data": {
      "image/png": "[encoded data removed]",
      "text/plain": [
       "<Figure size 864x432 with 1 Axes>"
      ]
     },
     "metadata": {
      "needs_background": "light"
     },
     "output_type": "display_data"
    },
    {
     "data": {
      "image/png": "[encoded data removed]",
      "text/plain": [
       "<Figure size 864x432 with 1 Axes>"
      ]
     },
     "metadata": {
      "needs_background": "light"
     },
     "output_type": "display_data"
    },
    {
     "data": {
      "image/png": "[encoded data removed]",
      "text/plain": [
       "<Figure size 864x432 with 1 Axes>"
      ]
     },
     "metadata": {
      "needs_background": "light"
     },
     "output_type": "display_data"
    },
    {
     "data": {
      "image/png": "[encoded data removed]",
      "text/plain": [
       "<Figure size 864x432 with 1 Axes>"
      ]
     },
     "metadata": {
      "needs_background": "light"
     },
     "output_type": "display_data"
    },
    {
     "data": {
      "image/png": "[encoded data removed]",
      "text/plain": [
       "<Figure size 864x432 with 1 Axes>"
      ]
     },
     "metadata": {
      "needs_background": "light"
     },
     "output_type": "display_data"
    },
    {
     "data": {
      "image/png": "[encoded data removed]",
      "text/plain": [
       "<Figure size 864x432 with 1 Axes>"
      ]
     },
     "metadata": {
      "needs_background": "light"
     },
     "output_type": "display_data"
    },
    {
     "data": {
      "image/png": "[encoded data removed]",
      "text/plain": [
       "<Figure size 864x432 with 1 Axes>"
      ]
     },
     "metadata": {
      "needs_background": "light"
     },
     "output_type": "display_data"
    }
   ],
   "source": [
    "\n",
    "compute_plot_features_stats(df_sample_data,'E')\n",
    "\n",
    "compute_plot_features_stats(df_sample_data,'F')\n",
    "\n",
    "compute_plot_features_stats(df_sample_data,'G')\n",
    "\n",
    "compute_plot_features_stats(df_sample_data,'H')\n",
    "\n",
    "\n",
    "compute_plot_features_stats(df_sample_data,'I')\n",
    "\n"
   ]
  },
  {
   "cell_type": "markdown",
   "metadata": {},
   "source": [
    "- As we see ,most of the data(85%) was from a single device and if we can combine device information together to reduce features and also give a coherent view .\n",
    "but considering the time constraints I would goahead with modelling and see the results accordingly.\n"
   ]
  },
  {
   "cell_type": "code",
   "execution_count": 192,
   "metadata": {},
   "outputs": [
    {
     "data": {
      "text/plain": [
       "Index(['like', 'hour', 'sid', 'sdomain', 'scat', 'aid', 'adomain', 'acat',\n",
       "       'did', 'dip', 'dmodel', 'dtype', 'dconn', 'pos', 'A', 'B', 'C', 'D',\n",
       "       'E', 'F', 'G', 'H', 'I', 'hour_day', 'week_day', 'day'],\n",
       "      dtype='object')"
      ]
     },
     "execution_count": 192,
     "metadata": {},
     "output_type": "execute_result"
    }
   ],
   "source": [
    "df_sample_data.columns"
   ]
  },
  {
   "cell_type": "code",
   "execution_count": 193,
   "metadata": {},
   "outputs": [],
   "source": [
    "# df_sample_data_reduced=df_sample_data.copy()"
   ]
  },
  {
   "cell_type": "code",
   "execution_count": 194,
   "metadata": {},
   "outputs": [],
   "source": [
    "# device = df_sample_data_reduced['did'].value_counts().index[0]\n",
    "# df_sample_data_reduced['user'] = (df_sample_data_reduced['dip'] + df_sample_data_reduced['dmodel']) * (df_sample_data_reduced['did']==device) + df_sample_data_reduced['did'] * (df_sample_data_reduced['did']!=device)\n",
    "\n"
   ]
  },
  {
   "cell_type": "code",
   "execution_count": 195,
   "metadata": {},
   "outputs": [],
   "source": [
    "# df_sample_data_reduced['site'] =df_sample_data_reduced['sid'] + df_sample_data_reduced['sdomain']\n",
    "# df_sample_data_reduced=df_sample_data_reduced.drop(columns=['sid','sdomain'], axis=1)"
   ]
  },
  {
   "cell_type": "code",
   "execution_count": 196,
   "metadata": {},
   "outputs": [
    {
     "data": {
      "text/html": [
       "<div>\n",
       "<style scoped>\n",
       "    .dataframe tbody tr th:only-of-type {\n",
       "        vertical-align: middle;\n",
       "    }\n",
       "\n",
       "    .dataframe tbody tr th {\n",
       "        vertical-align: top;\n",
       "    }\n",
       "\n",
       "    .dataframe thead th {\n",
       "        text-align: right;\n",
       "    }\n",
       "</style>\n",
       "<table border=\"1\" class=\"dataframe\">\n",
       "  <thead>\n",
       "    <tr style=\"text-align: right;\">\n",
       "      <th></th>\n",
       "      <th>like</th>\n",
       "      <th>hour</th>\n",
       "      <th>scat</th>\n",
       "      <th>aid</th>\n",
       "      <th>adomain</th>\n",
       "      <th>acat</th>\n",
       "      <th>dtype</th>\n",
       "      <th>dconn</th>\n",
       "      <th>pos</th>\n",
       "      <th>A</th>\n",
       "      <th>...</th>\n",
       "      <th>E</th>\n",
       "      <th>F</th>\n",
       "      <th>G</th>\n",
       "      <th>H</th>\n",
       "      <th>I</th>\n",
       "      <th>hour_day</th>\n",
       "      <th>week_day</th>\n",
       "      <th>day</th>\n",
       "      <th>user</th>\n",
       "      <th>site</th>\n",
       "    </tr>\n",
       "  </thead>\n",
       "  <tbody>\n",
       "    <tr>\n",
       "      <th>12688502</th>\n",
       "      <td>0</td>\n",
       "      <td>2019-12-23 18:00:00</td>\n",
       "      <td>28905ebd</td>\n",
       "      <td>ecad2386</td>\n",
       "      <td>7801e8d9</td>\n",
       "      <td>07d7df22</td>\n",
       "      <td>1</td>\n",
       "      <td>0</td>\n",
       "      <td>0</td>\n",
       "      <td>1005</td>\n",
       "      <td>...</td>\n",
       "      <td>1722</td>\n",
       "      <td>0</td>\n",
       "      <td>35</td>\n",
       "      <td>-1</td>\n",
       "      <td>79</td>\n",
       "      <td>18</td>\n",
       "      <td>Monday</td>\n",
       "      <td>23</td>\n",
       "      <td>ce6db48d8a4875bd</td>\n",
       "      <td>1fbe01fef3845767</td>\n",
       "    </tr>\n",
       "    <tr>\n",
       "      <th>138842</th>\n",
       "      <td>0</td>\n",
       "      <td>2019-12-21 01:00:00</td>\n",
       "      <td>50e219e0</td>\n",
       "      <td>3bfa19cb</td>\n",
       "      <td>2347f47a</td>\n",
       "      <td>0f2161f8</td>\n",
       "      <td>1</td>\n",
       "      <td>0</td>\n",
       "      <td>0</td>\n",
       "      <td>1005</td>\n",
       "      <td>...</td>\n",
       "      <td>2487</td>\n",
       "      <td>1</td>\n",
       "      <td>547</td>\n",
       "      <td>-1</td>\n",
       "      <td>51</td>\n",
       "      <td>1</td>\n",
       "      <td>Saturday</td>\n",
       "      <td>21</td>\n",
       "      <td>9b10294c</td>\n",
       "      <td>85f751fdc4e18dd6</td>\n",
       "    </tr>\n",
       "    <tr>\n",
       "      <th>28101303</th>\n",
       "      <td>0</td>\n",
       "      <td>2019-12-28 07:00:00</td>\n",
       "      <td>50e219e0</td>\n",
       "      <td>7358e05e</td>\n",
       "      <td>b9528b13</td>\n",
       "      <td>cef3e649</td>\n",
       "      <td>1</td>\n",
       "      <td>0</td>\n",
       "      <td>0</td>\n",
       "      <td>1005</td>\n",
       "      <td>...</td>\n",
       "      <td>2104</td>\n",
       "      <td>3</td>\n",
       "      <td>559</td>\n",
       "      <td>-1</td>\n",
       "      <td>171</td>\n",
       "      <td>7</td>\n",
       "      <td>Saturday</td>\n",
       "      <td>28</td>\n",
       "      <td>5ec2c9e6</td>\n",
       "      <td>85f751fdc4e18dd6</td>\n",
       "    </tr>\n",
       "    <tr>\n",
       "      <th>5442654</th>\n",
       "      <td>0</td>\n",
       "      <td>2019-12-22 07:00:00</td>\n",
       "      <td>f028772b</td>\n",
       "      <td>ecad2386</td>\n",
       "      <td>7801e8d9</td>\n",
       "      <td>07d7df22</td>\n",
       "      <td>1</td>\n",
       "      <td>0</td>\n",
       "      <td>1</td>\n",
       "      <td>1005</td>\n",
       "      <td>...</td>\n",
       "      <td>1800</td>\n",
       "      <td>3</td>\n",
       "      <td>167</td>\n",
       "      <td>100075</td>\n",
       "      <td>23</td>\n",
       "      <td>7</td>\n",
       "      <td>Sunday</td>\n",
       "      <td>22</td>\n",
       "      <td>c2db558976dc4769</td>\n",
       "      <td>856e6d3f58a89a43</td>\n",
       "    </tr>\n",
       "    <tr>\n",
       "      <th>29431301</th>\n",
       "      <td>0</td>\n",
       "      <td>2019-12-28 11:00:00</td>\n",
       "      <td>f028772b</td>\n",
       "      <td>ecad2386</td>\n",
       "      <td>7801e8d9</td>\n",
       "      <td>07d7df22</td>\n",
       "      <td>1</td>\n",
       "      <td>0</td>\n",
       "      <td>1</td>\n",
       "      <td>1005</td>\n",
       "      <td>...</td>\n",
       "      <td>2227</td>\n",
       "      <td>0</td>\n",
       "      <td>935</td>\n",
       "      <td>-1</td>\n",
       "      <td>48</td>\n",
       "      <td>11</td>\n",
       "      <td>Saturday</td>\n",
       "      <td>28</td>\n",
       "      <td>eb32979b0ac04b54</td>\n",
       "      <td>57ef2c87bd6d812f</td>\n",
       "    </tr>\n",
       "  </tbody>\n",
       "</table>\n",
       "<p>5 rows × 23 columns</p>\n",
       "</div>"
      ],
      "text/plain": [
       "          like                hour      scat       aid   adomain      acat  \\\n",
       "12688502     0 2019-12-23 18:00:00  28905ebd  ecad2386  7801e8d9  07d7df22   \n",
       "138842       0 2019-12-21 01:00:00  50e219e0  3bfa19cb  2347f47a  0f2161f8   \n",
       "28101303     0 2019-12-28 07:00:00  50e219e0  7358e05e  b9528b13  cef3e649   \n",
       "5442654      0 2019-12-22 07:00:00  f028772b  ecad2386  7801e8d9  07d7df22   \n",
       "29431301     0 2019-12-28 11:00:00  f028772b  ecad2386  7801e8d9  07d7df22   \n",
       "\n",
       "          dtype  dconn  pos     A  ...     E  F    G       H    I  hour_day  \\\n",
       "12688502      1      0    0  1005  ...  1722  0   35      -1   79        18   \n",
       "138842        1      0    0  1005  ...  2487  1  547      -1   51         1   \n",
       "28101303      1      0    0  1005  ...  2104  3  559      -1  171         7   \n",
       "5442654       1      0    1  1005  ...  1800  3  167  100075   23         7   \n",
       "29431301      1      0    1  1005  ...  2227  0  935      -1   48        11   \n",
       "\n",
       "          week_day  day              user              site  \n",
       "12688502    Monday   23  ce6db48d8a4875bd  1fbe01fef3845767  \n",
       "138842    Saturday   21          9b10294c  85f751fdc4e18dd6  \n",
       "28101303  Saturday   28          5ec2c9e6  85f751fdc4e18dd6  \n",
       "5442654     Sunday   22  c2db558976dc4769  856e6d3f58a89a43  \n",
       "29431301  Saturday   28  eb32979b0ac04b54  57ef2c87bd6d812f  \n",
       "\n",
       "[5 rows x 23 columns]"
      ]
     },
     "execution_count": 196,
     "metadata": {},
     "output_type": "execute_result"
    }
   ],
   "source": [
    "# df_sample_data_reduced=df_sample_data_reduced.drop(columns=['dip','did','dmodel'], axis=1)\n",
    "# df_sample_data_reduced.head()"
   ]
  },
  {
   "cell_type": "code",
   "execution_count": 205,
   "metadata": {},
   "outputs": [
    {
     "data": {
      "text/plain": [
       "(1000000, 26)"
      ]
     },
     "execution_count": 205,
     "metadata": {},
     "output_type": "execute_result"
    }
   ],
   "source": [
    "df_sample_data.shape"
   ]
  },
  {
   "cell_type": "markdown",
   "metadata": {},
   "source": [
    "### Hashing of features "
   ]
  },
  {
   "cell_type": "markdown",
   "metadata": {},
   "source": [
    "- Python has a built in function that performs a hash called hash().. The purposes of the hashing is to minimize memory consumption by the features.\n",
    "Instead of encoding using One-hot encoder or label ecnoder which could lead to curse of dimensionality .Here I would use Hashing a function that maps a set of objects to a set of integers. When using a hash function, this mapping is performed which takes a key of arbitrary length as input and outputs an integer in a specific range."
   ]
  },
  {
   "cell_type": "code",
   "execution_count": 206,
   "metadata": {},
   "outputs": [],
   "source": [
    "def convert_to_hash(df):\n",
    "    \n",
    "    object_list_columns = df.columns\n",
    "    object_list_dtypes = df.dtypes\n",
    "    new_col_suffix = '_int'\n",
    "    for index in range(0,len(object_list_columns)):\n",
    "        if object_list_dtypes[index] == object :\n",
    "            df[object_list_columns[index]+new_col_suffix] = df[object_list_columns[index]].map( lambda  x: hash(x))\n",
    "            df.drop([object_list_columns[index]],inplace=True,axis=1)\n",
    "    return df"
   ]
  },
  {
   "cell_type": "code",
   "execution_count": 207,
   "metadata": {},
   "outputs": [],
   "source": [
    "#Applying Hashing Function\n",
    "df_totrain_hashed = convert_to_hash(df_sample_data)"
   ]
  },
  {
   "cell_type": "code",
   "execution_count": 208,
   "metadata": {},
   "outputs": [
    {
     "data": {
      "text/html": [
       "<div>\n",
       "<style scoped>\n",
       "    .dataframe tbody tr th:only-of-type {\n",
       "        vertical-align: middle;\n",
       "    }\n",
       "\n",
       "    .dataframe tbody tr th {\n",
       "        vertical-align: top;\n",
       "    }\n",
       "\n",
       "    .dataframe thead th {\n",
       "        text-align: right;\n",
       "    }\n",
       "</style>\n",
       "<table border=\"1\" class=\"dataframe\">\n",
       "  <thead>\n",
       "    <tr style=\"text-align: right;\">\n",
       "      <th></th>\n",
       "      <th>like</th>\n",
       "      <th>hour</th>\n",
       "      <th>dtype</th>\n",
       "      <th>dconn</th>\n",
       "      <th>pos</th>\n",
       "      <th>A</th>\n",
       "      <th>B</th>\n",
       "      <th>C</th>\n",
       "      <th>D</th>\n",
       "      <th>E</th>\n",
       "      <th>...</th>\n",
       "      <th>sid_int</th>\n",
       "      <th>sdomain_int</th>\n",
       "      <th>scat_int</th>\n",
       "      <th>aid_int</th>\n",
       "      <th>adomain_int</th>\n",
       "      <th>acat_int</th>\n",
       "      <th>did_int</th>\n",
       "      <th>dip_int</th>\n",
       "      <th>dmodel_int</th>\n",
       "      <th>week_day_int</th>\n",
       "    </tr>\n",
       "  </thead>\n",
       "  <tbody>\n",
       "    <tr>\n",
       "      <th>12688502</th>\n",
       "      <td>0</td>\n",
       "      <td>2019-12-23 18:00:00</td>\n",
       "      <td>1</td>\n",
       "      <td>0</td>\n",
       "      <td>0</td>\n",
       "      <td>1005</td>\n",
       "      <td>15708</td>\n",
       "      <td>320</td>\n",
       "      <td>50</td>\n",
       "      <td>1722</td>\n",
       "      <td>...</td>\n",
       "      <td>-8957809334476807274</td>\n",
       "      <td>7553946051443205476</td>\n",
       "      <td>2130562091633361841</td>\n",
       "      <td>7805814409961345999</td>\n",
       "      <td>-776665081776717179</td>\n",
       "      <td>-957940335628360031</td>\n",
       "      <td>3470267876062906150</td>\n",
       "      <td>-205760404363700517</td>\n",
       "      <td>-6406768632426782182</td>\n",
       "      <td>6686300557777964987</td>\n",
       "    </tr>\n",
       "    <tr>\n",
       "      <th>138842</th>\n",
       "      <td>0</td>\n",
       "      <td>2019-12-21 01:00:00</td>\n",
       "      <td>1</td>\n",
       "      <td>0</td>\n",
       "      <td>0</td>\n",
       "      <td>1005</td>\n",
       "      <td>21647</td>\n",
       "      <td>320</td>\n",
       "      <td>50</td>\n",
       "      <td>2487</td>\n",
       "      <td>...</td>\n",
       "      <td>776321843154138061</td>\n",
       "      <td>3785538029929655034</td>\n",
       "      <td>-1211157273377936692</td>\n",
       "      <td>8285347048936576082</td>\n",
       "      <td>2910822173347745509</td>\n",
       "      <td>-2244377406479595259</td>\n",
       "      <td>2619919966429217754</td>\n",
       "      <td>4157144668116398242</td>\n",
       "      <td>-4140531578761986147</td>\n",
       "      <td>-5377926922484226834</td>\n",
       "    </tr>\n",
       "    <tr>\n",
       "      <th>28101303</th>\n",
       "      <td>0</td>\n",
       "      <td>2019-12-28 07:00:00</td>\n",
       "      <td>1</td>\n",
       "      <td>0</td>\n",
       "      <td>0</td>\n",
       "      <td>1005</td>\n",
       "      <td>18574</td>\n",
       "      <td>320</td>\n",
       "      <td>50</td>\n",
       "      <td>2104</td>\n",
       "      <td>...</td>\n",
       "      <td>776321843154138061</td>\n",
       "      <td>3785538029929655034</td>\n",
       "      <td>-1211157273377936692</td>\n",
       "      <td>2652813310273656003</td>\n",
       "      <td>-5318083799169890636</td>\n",
       "      <td>5338541528574601834</td>\n",
       "      <td>8458647437711104382</td>\n",
       "      <td>8257793823270513804</td>\n",
       "      <td>2806286555445844708</td>\n",
       "      <td>-5377926922484226834</td>\n",
       "    </tr>\n",
       "    <tr>\n",
       "      <th>5442654</th>\n",
       "      <td>0</td>\n",
       "      <td>2019-12-22 07:00:00</td>\n",
       "      <td>1</td>\n",
       "      <td>0</td>\n",
       "      <td>1</td>\n",
       "      <td>1005</td>\n",
       "      <td>16208</td>\n",
       "      <td>320</td>\n",
       "      <td>50</td>\n",
       "      <td>1800</td>\n",
       "      <td>...</td>\n",
       "      <td>-4726369691573721314</td>\n",
       "      <td>8553919644377755207</td>\n",
       "      <td>5972868601436526999</td>\n",
       "      <td>7805814409961345999</td>\n",
       "      <td>-776665081776717179</td>\n",
       "      <td>-957940335628360031</td>\n",
       "      <td>3470267876062906150</td>\n",
       "      <td>6137353008761744717</td>\n",
       "      <td>-6136139363654279014</td>\n",
       "      <td>-9031220084145463596</td>\n",
       "    </tr>\n",
       "    <tr>\n",
       "      <th>29431301</th>\n",
       "      <td>0</td>\n",
       "      <td>2019-12-28 11:00:00</td>\n",
       "      <td>1</td>\n",
       "      <td>0</td>\n",
       "      <td>1</td>\n",
       "      <td>1005</td>\n",
       "      <td>19771</td>\n",
       "      <td>320</td>\n",
       "      <td>50</td>\n",
       "      <td>2227</td>\n",
       "      <td>...</td>\n",
       "      <td>7652594469227825789</td>\n",
       "      <td>4102820948812905902</td>\n",
       "      <td>5972868601436526999</td>\n",
       "      <td>7805814409961345999</td>\n",
       "      <td>-776665081776717179</td>\n",
       "      <td>-957940335628360031</td>\n",
       "      <td>3470267876062906150</td>\n",
       "      <td>5823346938975139927</td>\n",
       "      <td>-5541889939449865773</td>\n",
       "      <td>-5377926922484226834</td>\n",
       "    </tr>\n",
       "  </tbody>\n",
       "</table>\n",
       "<p>5 rows × 26 columns</p>\n",
       "</div>"
      ],
      "text/plain": [
       "          like                hour  dtype  dconn  pos     A      B    C   D  \\\n",
       "12688502     0 2019-12-23 18:00:00      1      0    0  1005  15708  320  50   \n",
       "138842       0 2019-12-21 01:00:00      1      0    0  1005  21647  320  50   \n",
       "28101303     0 2019-12-28 07:00:00      1      0    0  1005  18574  320  50   \n",
       "5442654      0 2019-12-22 07:00:00      1      0    1  1005  16208  320  50   \n",
       "29431301     0 2019-12-28 11:00:00      1      0    1  1005  19771  320  50   \n",
       "\n",
       "             E  ...              sid_int          sdomain_int  \\\n",
       "12688502  1722  ... -8957809334476807274  7553946051443205476   \n",
       "138842    2487  ...   776321843154138061  3785538029929655034   \n",
       "28101303  2104  ...   776321843154138061  3785538029929655034   \n",
       "5442654   1800  ... -4726369691573721314  8553919644377755207   \n",
       "29431301  2227  ...  7652594469227825789  4102820948812905902   \n",
       "\n",
       "                     scat_int              aid_int          adomain_int  \\\n",
       "12688502  2130562091633361841  7805814409961345999  -776665081776717179   \n",
       "138842   -1211157273377936692  8285347048936576082  2910822173347745509   \n",
       "28101303 -1211157273377936692  2652813310273656003 -5318083799169890636   \n",
       "5442654   5972868601436526999  7805814409961345999  -776665081776717179   \n",
       "29431301  5972868601436526999  7805814409961345999  -776665081776717179   \n",
       "\n",
       "                     acat_int              did_int              dip_int  \\\n",
       "12688502  -957940335628360031  3470267876062906150  -205760404363700517   \n",
       "138842   -2244377406479595259  2619919966429217754  4157144668116398242   \n",
       "28101303  5338541528574601834  8458647437711104382  8257793823270513804   \n",
       "5442654   -957940335628360031  3470267876062906150  6137353008761744717   \n",
       "29431301  -957940335628360031  3470267876062906150  5823346938975139927   \n",
       "\n",
       "                   dmodel_int         week_day_int  \n",
       "12688502 -6406768632426782182  6686300557777964987  \n",
       "138842   -4140531578761986147 -5377926922484226834  \n",
       "28101303  2806286555445844708 -5377926922484226834  \n",
       "5442654  -6136139363654279014 -9031220084145463596  \n",
       "29431301 -5541889939449865773 -5377926922484226834  \n",
       "\n",
       "[5 rows x 26 columns]"
      ]
     },
     "execution_count": 208,
     "metadata": {},
     "output_type": "execute_result"
    }
   ],
   "source": [
    "df_totrain_hashed.head()"
   ]
  },
  {
   "cell_type": "markdown",
   "metadata": {},
   "source": [
    "- Dropping certain features like hour"
   ]
  },
  {
   "cell_type": "code",
   "execution_count": 209,
   "metadata": {},
   "outputs": [
    {
     "data": {
      "text/html": [
       "<div>\n",
       "<style scoped>\n",
       "    .dataframe tbody tr th:only-of-type {\n",
       "        vertical-align: middle;\n",
       "    }\n",
       "\n",
       "    .dataframe tbody tr th {\n",
       "        vertical-align: top;\n",
       "    }\n",
       "\n",
       "    .dataframe thead th {\n",
       "        text-align: right;\n",
       "    }\n",
       "</style>\n",
       "<table border=\"1\" class=\"dataframe\">\n",
       "  <thead>\n",
       "    <tr style=\"text-align: right;\">\n",
       "      <th></th>\n",
       "      <th>like</th>\n",
       "      <th>dtype</th>\n",
       "      <th>dconn</th>\n",
       "      <th>pos</th>\n",
       "      <th>A</th>\n",
       "      <th>B</th>\n",
       "      <th>C</th>\n",
       "      <th>D</th>\n",
       "      <th>E</th>\n",
       "      <th>F</th>\n",
       "      <th>...</th>\n",
       "      <th>sid_int</th>\n",
       "      <th>sdomain_int</th>\n",
       "      <th>scat_int</th>\n",
       "      <th>aid_int</th>\n",
       "      <th>adomain_int</th>\n",
       "      <th>acat_int</th>\n",
       "      <th>did_int</th>\n",
       "      <th>dip_int</th>\n",
       "      <th>dmodel_int</th>\n",
       "      <th>week_day_int</th>\n",
       "    </tr>\n",
       "  </thead>\n",
       "  <tbody>\n",
       "    <tr>\n",
       "      <th>12688502</th>\n",
       "      <td>0</td>\n",
       "      <td>1</td>\n",
       "      <td>0</td>\n",
       "      <td>0</td>\n",
       "      <td>1005</td>\n",
       "      <td>15708</td>\n",
       "      <td>320</td>\n",
       "      <td>50</td>\n",
       "      <td>1722</td>\n",
       "      <td>0</td>\n",
       "      <td>...</td>\n",
       "      <td>-8957809334476807274</td>\n",
       "      <td>7553946051443205476</td>\n",
       "      <td>2130562091633361841</td>\n",
       "      <td>7805814409961345999</td>\n",
       "      <td>-776665081776717179</td>\n",
       "      <td>-957940335628360031</td>\n",
       "      <td>3470267876062906150</td>\n",
       "      <td>-205760404363700517</td>\n",
       "      <td>-6406768632426782182</td>\n",
       "      <td>6686300557777964987</td>\n",
       "    </tr>\n",
       "    <tr>\n",
       "      <th>138842</th>\n",
       "      <td>0</td>\n",
       "      <td>1</td>\n",
       "      <td>0</td>\n",
       "      <td>0</td>\n",
       "      <td>1005</td>\n",
       "      <td>21647</td>\n",
       "      <td>320</td>\n",
       "      <td>50</td>\n",
       "      <td>2487</td>\n",
       "      <td>1</td>\n",
       "      <td>...</td>\n",
       "      <td>776321843154138061</td>\n",
       "      <td>3785538029929655034</td>\n",
       "      <td>-1211157273377936692</td>\n",
       "      <td>8285347048936576082</td>\n",
       "      <td>2910822173347745509</td>\n",
       "      <td>-2244377406479595259</td>\n",
       "      <td>2619919966429217754</td>\n",
       "      <td>4157144668116398242</td>\n",
       "      <td>-4140531578761986147</td>\n",
       "      <td>-5377926922484226834</td>\n",
       "    </tr>\n",
       "    <tr>\n",
       "      <th>28101303</th>\n",
       "      <td>0</td>\n",
       "      <td>1</td>\n",
       "      <td>0</td>\n",
       "      <td>0</td>\n",
       "      <td>1005</td>\n",
       "      <td>18574</td>\n",
       "      <td>320</td>\n",
       "      <td>50</td>\n",
       "      <td>2104</td>\n",
       "      <td>3</td>\n",
       "      <td>...</td>\n",
       "      <td>776321843154138061</td>\n",
       "      <td>3785538029929655034</td>\n",
       "      <td>-1211157273377936692</td>\n",
       "      <td>2652813310273656003</td>\n",
       "      <td>-5318083799169890636</td>\n",
       "      <td>5338541528574601834</td>\n",
       "      <td>8458647437711104382</td>\n",
       "      <td>8257793823270513804</td>\n",
       "      <td>2806286555445844708</td>\n",
       "      <td>-5377926922484226834</td>\n",
       "    </tr>\n",
       "    <tr>\n",
       "      <th>5442654</th>\n",
       "      <td>0</td>\n",
       "      <td>1</td>\n",
       "      <td>0</td>\n",
       "      <td>1</td>\n",
       "      <td>1005</td>\n",
       "      <td>16208</td>\n",
       "      <td>320</td>\n",
       "      <td>50</td>\n",
       "      <td>1800</td>\n",
       "      <td>3</td>\n",
       "      <td>...</td>\n",
       "      <td>-4726369691573721314</td>\n",
       "      <td>8553919644377755207</td>\n",
       "      <td>5972868601436526999</td>\n",
       "      <td>7805814409961345999</td>\n",
       "      <td>-776665081776717179</td>\n",
       "      <td>-957940335628360031</td>\n",
       "      <td>3470267876062906150</td>\n",
       "      <td>6137353008761744717</td>\n",
       "      <td>-6136139363654279014</td>\n",
       "      <td>-9031220084145463596</td>\n",
       "    </tr>\n",
       "    <tr>\n",
       "      <th>29431301</th>\n",
       "      <td>0</td>\n",
       "      <td>1</td>\n",
       "      <td>0</td>\n",
       "      <td>1</td>\n",
       "      <td>1005</td>\n",
       "      <td>19771</td>\n",
       "      <td>320</td>\n",
       "      <td>50</td>\n",
       "      <td>2227</td>\n",
       "      <td>0</td>\n",
       "      <td>...</td>\n",
       "      <td>7652594469227825789</td>\n",
       "      <td>4102820948812905902</td>\n",
       "      <td>5972868601436526999</td>\n",
       "      <td>7805814409961345999</td>\n",
       "      <td>-776665081776717179</td>\n",
       "      <td>-957940335628360031</td>\n",
       "      <td>3470267876062906150</td>\n",
       "      <td>5823346938975139927</td>\n",
       "      <td>-5541889939449865773</td>\n",
       "      <td>-5377926922484226834</td>\n",
       "    </tr>\n",
       "  </tbody>\n",
       "</table>\n",
       "<p>5 rows × 25 columns</p>\n",
       "</div>"
      ],
      "text/plain": [
       "          like  dtype  dconn  pos     A      B    C   D     E  F  ...  \\\n",
       "12688502     0      1      0    0  1005  15708  320  50  1722  0  ...   \n",
       "138842       0      1      0    0  1005  21647  320  50  2487  1  ...   \n",
       "28101303     0      1      0    0  1005  18574  320  50  2104  3  ...   \n",
       "5442654      0      1      0    1  1005  16208  320  50  1800  3  ...   \n",
       "29431301     0      1      0    1  1005  19771  320  50  2227  0  ...   \n",
       "\n",
       "                      sid_int          sdomain_int             scat_int  \\\n",
       "12688502 -8957809334476807274  7553946051443205476  2130562091633361841   \n",
       "138842     776321843154138061  3785538029929655034 -1211157273377936692   \n",
       "28101303   776321843154138061  3785538029929655034 -1211157273377936692   \n",
       "5442654  -4726369691573721314  8553919644377755207  5972868601436526999   \n",
       "29431301  7652594469227825789  4102820948812905902  5972868601436526999   \n",
       "\n",
       "                      aid_int          adomain_int             acat_int  \\\n",
       "12688502  7805814409961345999  -776665081776717179  -957940335628360031   \n",
       "138842    8285347048936576082  2910822173347745509 -2244377406479595259   \n",
       "28101303  2652813310273656003 -5318083799169890636  5338541528574601834   \n",
       "5442654   7805814409961345999  -776665081776717179  -957940335628360031   \n",
       "29431301  7805814409961345999  -776665081776717179  -957940335628360031   \n",
       "\n",
       "                      did_int              dip_int           dmodel_int  \\\n",
       "12688502  3470267876062906150  -205760404363700517 -6406768632426782182   \n",
       "138842    2619919966429217754  4157144668116398242 -4140531578761986147   \n",
       "28101303  8458647437711104382  8257793823270513804  2806286555445844708   \n",
       "5442654   3470267876062906150  6137353008761744717 -6136139363654279014   \n",
       "29431301  3470267876062906150  5823346938975139927 -5541889939449865773   \n",
       "\n",
       "                 week_day_int  \n",
       "12688502  6686300557777964987  \n",
       "138842   -5377926922484226834  \n",
       "28101303 -5377926922484226834  \n",
       "5442654  -9031220084145463596  \n",
       "29431301 -5377926922484226834  \n",
       "\n",
       "[5 rows x 25 columns]"
      ]
     },
     "execution_count": 209,
     "metadata": {},
     "output_type": "execute_result"
    }
   ],
   "source": [
    "\n",
    "df_totrain_hashed=df_totrain_hashed.drop('hour',axis=1)\n",
    "df_totrain_hashed.head()"
   ]
  },
  {
   "cell_type": "code",
   "execution_count": 210,
   "metadata": {},
   "outputs": [
    {
     "data": {
      "text/plain": [
       "like            1000000\n",
       "dtype           1000000\n",
       "dconn           1000000\n",
       "pos             1000000\n",
       "A               1000000\n",
       "B               1000000\n",
       "C               1000000\n",
       "D               1000000\n",
       "E               1000000\n",
       "F               1000000\n",
       "G               1000000\n",
       "H               1000000\n",
       "I               1000000\n",
       "hour_day        1000000\n",
       "day             1000000\n",
       "sid_int         1000000\n",
       "sdomain_int     1000000\n",
       "scat_int        1000000\n",
       "aid_int         1000000\n",
       "adomain_int     1000000\n",
       "acat_int        1000000\n",
       "did_int         1000000\n",
       "dip_int         1000000\n",
       "dmodel_int      1000000\n",
       "week_day_int    1000000\n",
       "dtype: int64"
      ]
     },
     "execution_count": 210,
     "metadata": {},
     "output_type": "execute_result"
    }
   ],
   "source": [
    "df_totrain_hashed.count()"
   ]
  },
  {
   "cell_type": "code",
   "execution_count": 204,
   "metadata": {},
   "outputs": [],
   "source": [
    "df_totrain_hashed.to_csv('data_hashed_to_train_model.csv',index=None)"
   ]
  },
  {
   "cell_type": "markdown",
   "metadata": {},
   "source": [
    "### The data has been prepared and ready to be trained with almost 25 columns features and target variable being 'like' column.\n",
    "\n",
    "### The whole problem is a binary classification problem with evaluation metrics being log_loss(logarthmic loss) .Log Loss quantifies the accuracy of a classifier by penalising false classifications. Minimising the Log Loss is basically equivalent to maximising the accuracy of the classifier.\n",
    "\n",
    "### A model with lower average impression logloss is preferred and is often used as an indicator of model performance in online advertisement industry\n",
    "\n"
   ]
  }
 ],
 "metadata": {
  "kernelspec": {
   "display_name": "Python 3",
   "language": "python",
   "name": "python3"
  },
  "language_info": {
   "codemirror_mode": {
    "name": "ipython",
    "version": 3
   },
   "file_extension": ".py",
   "mimetype": "text/x-python",
   "name": "python",
   "nbconvert_exporter": "python",
   "pygments_lexer": "ipython3",
   "version": "3.7.6"
  }
 },
 "nbformat": 4,
 "nbformat_minor": 4
}
